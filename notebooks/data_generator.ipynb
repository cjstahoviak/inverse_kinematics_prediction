{
 "cells": [
  {
   "cell_type": "markdown",
   "metadata": {},
   "source": [
    "# Generate Dataset\n",
    "\n",
    "This notebook geenrates a dataset for a 4 DoF spatial robotic arm described below:\n",
    "- 4 revolute joints with no limits\n",
    "- 5 links  each 1 unit long\n",
    "\n",
    "Our dataset consists of a set of features, $X$, and a set of targets $y$.\n",
    "- $X$ consists of a 7 values. The first 3 represent a point $(x,y,z)$ and the last 4 represent an orientation in the form of a quaternion $(x,y,z,w)$\n",
    "- $y$ consists of joint angles, with the amount of features being equal to the amount of joints."
   ]
  },
  {
   "cell_type": "markdown",
   "metadata": {},
   "source": [
    "### Adjust Path\n",
    "In order to use the RobotArm class located in `./utils/robot_arm.py` we need to add this project to our system path."
   ]
  },
  {
   "cell_type": "code",
   "execution_count": 1,
   "metadata": {},
   "outputs": [
    {
     "name": "stdout",
     "output_type": "stream",
     "text": [
      "Current working directory: c:\\Users\\cjsta\\git\\inverse_kinematics_prediction\\notebooks\n",
      "Project root added to sys.path: c:\\Users\\cjsta\\git\\inverse_kinematics_prediction\n"
     ]
    }
   ],
   "source": [
    "import sys\n",
    "import os\n",
    "\n",
    "# Add the parent directory (project root) relative to the current working directory.\n",
    "project_root = os.path.abspath(os.path.join(os.getcwd(), \"..\"))\n",
    "if project_root not in sys.path:\n",
    "    sys.path.insert(0, project_root)\n",
    "\n",
    "print(\"Current working directory:\", os.getcwd())\n",
    "print(\"Project root added to sys.path:\", project_root)"
   ]
  },
  {
   "cell_type": "markdown",
   "metadata": {},
   "source": [
    "### Create a RobotArm object\n",
    "The RobotArm object defines the structure of a desired arm and can calculate the location of it's end effector."
   ]
  },
  {
   "cell_type": "code",
   "execution_count": 2,
   "metadata": {},
   "outputs": [
    {
     "name": "stdout",
     "output_type": "stream",
     "text": [
      "End Effector Position (point x,y,z):  [ 3.93472065  2.14954769 -1.90423069]\n",
      "End Effector Orientation (quaternion x,y,z,w):  (np.float64(-0.07311286916773024), np.float64(0.2863331991006688), np.float64(0.2363540298299904), np.float64(0.925637391227236))\n"
     ]
    }
   ],
   "source": [
    "import numpy as np\n",
    "\n",
    "from utils.robot_arm import RobotArm\n",
    "\n",
    "# Create a 4-DOF robot arm with 5 links, each of length 1.0 unit.\n",
    "num_joints = 4\n",
    "joint_limits = [(0, 2*np.pi)] * num_joints\n",
    "link_lengths = [1.0] * (num_joints + 1)\n",
    "\n",
    "# Instantiate the RobotArm object\n",
    "robot_arm = RobotArm(num_joints, joint_limits, link_lengths)\n",
    "\n",
    "# Test forward kinematics\n",
    "test_angles = [0.5, 0.3, 0.2, 0.1]\n",
    "pos, quat = robot_arm.forward_kinematics(test_angles)\n",
    "print(\"End Effector Position (point x,y,z): \", pos)\n",
    "print(\"End Effector Orientation (quaternion x,y,z,w): \", quat)"
   ]
  },
  {
   "cell_type": "markdown",
   "metadata": {},
   "source": [
    "### Generate Targets\n",
    "Our target is the position and orientation of the end effector. We generate a uniformly random set of those. "
   ]
  },
  {
   "cell_type": "code",
   "execution_count": null,
   "metadata": {},
   "outputs": [
    {
     "name": "stdout",
     "output_type": "stream",
     "text": [
      "Generated random joint samples shape: (1000, 4)\n"
     ]
    },
    {
     "data": {
      "text/plain": [
       "array([[0.21141165, 0.06279582, 1.29609117, 6.27870023],\n",
       "       [0.07860028, 4.95024723, 4.73714942, 0.62200772],\n",
       "       [5.40065228, 0.72907796, 2.76707244, 5.86556121],\n",
       "       ...,\n",
       "       [1.62143803, 5.38942214, 1.89914489, 0.88074172],\n",
       "       [3.47995185, 2.36739053, 5.07178472, 4.12369753],\n",
       "       [0.81644348, 2.30549179, 4.2330438 , 3.46932546]], shape=(1000, 4))"
      ]
     },
     "execution_count": 4,
     "metadata": {},
     "output_type": "execute_result"
    }
   ],
   "source": [
    "num_samples = 1000  # Parameter to control the number of samples\n",
    "\n",
    "joint_samples = np.zeros((num_samples, robot_arm.num_joints))\n",
    "\n",
    "# Generate random angles for each joint within its allowed range.\n",
    "for i, (low, high) in enumerate(robot_arm.joint_limits):\n",
    "    joint_samples[:, i] = np.random.uniform(low, high, size=num_samples)\n",
    "\n",
    "print(\"Generated random joint samples shape:\", joint_samples.shape)"
   ]
  },
  {
   "cell_type": "markdown",
   "metadata": {},
   "source": [
    "### Generate Features\n",
    "Our features are the position and orientation of the end effector.\n",
    "\n"
   ]
  },
  {
   "cell_type": "markdown",
   "metadata": {},
   "source": [
    "## CONSIDER MAKING A SPATIAL AND PLANAR RobotArm CLASS"
   ]
  }
 ],
 "metadata": {
  "kernelspec": {
   "display_name": "Inverse-Kinematics-Prediction",
   "language": "python",
   "name": "python3"
  },
  "language_info": {
   "codemirror_mode": {
    "name": "ipython",
    "version": 3
   },
   "file_extension": ".py",
   "mimetype": "text/x-python",
   "name": "python",
   "nbconvert_exporter": "python",
   "pygments_lexer": "ipython3",
   "version": "3.13.2"
  }
 },
 "nbformat": 4,
 "nbformat_minor": 2
}
