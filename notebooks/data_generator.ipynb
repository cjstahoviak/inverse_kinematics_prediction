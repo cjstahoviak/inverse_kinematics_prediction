{
 "cells": [
  {
   "cell_type": "markdown",
   "metadata": {},
   "source": [
    "# Generate Dataset\n",
    "\n",
    "This notebook geenrates a dataset for a 4 DoF spatial robotic arm described below:\n",
    "- 4 revolute joints with no limits\n",
    "- The following limits on each joint in radians: `[(-1, 1), (-0.8, 0.8), (-0.8, 0.8), (-0.8, 0.8)]`\n",
    "- 5 links of the following sizes: `[0.2, 0.2, 0.5, 0.5, 0.2]`\n",
    "\n",
    "Our dataset consists of a set of features, $X$, and a set of targets $y$.\n",
    "- $X$ consists of a 7 values. The first 3 represent a point $(x,y,z)$ and the last 4 represent an orientation in the form of a quaternion $(x,y,z,w)$\n",
    "- $y$ consists of joint angles, with the amount of features being equal to the amount of joints.\n",
    "- Additonally the pose and orientation or each joint is added to the dataset."
   ]
  },
  {
   "cell_type": "markdown",
   "metadata": {},
   "source": [
    "### Adjust Path\n",
    "In order to use the RobotArm class located in `inverse_kinematics_prediction/utils/robot_arm.py` we need to add this project to our system path."
   ]
  },
  {
   "cell_type": "code",
   "execution_count": 6,
   "metadata": {},
   "outputs": [
    {
     "name": "stdout",
     "output_type": "stream",
     "text": [
      "Current working directory: c:\\Users\\cjsta\\git\\inverse_kinematics_prediction\\notebooks\n",
      "Project root added to sys.path: c:\\Users\\cjsta\\git\\inverse_kinematics_prediction\n"
     ]
    }
   ],
   "source": [
    "import sys\n",
    "import os\n",
    "\n",
    "# Add the parent directory (project root) relative to the current working directory.\n",
    "project_root = os.path.abspath(os.path.join(os.getcwd(), \"..\"))\n",
    "if project_root not in sys.path:\n",
    "    sys.path.insert(0, project_root)\n",
    "\n",
    "print(\"Current working directory:\", os.getcwd())\n",
    "print(\"Project root added to sys.path:\", project_root)"
   ]
  },
  {
   "cell_type": "markdown",
   "metadata": {},
   "source": [
    "### Create a RobotArm object\n",
    "The RobotArm object defines the structure of a desired arm and can calculate the location of it's end effector."
   ]
  },
  {
   "cell_type": "code",
   "execution_count": 7,
   "metadata": {},
   "outputs": [
    {
     "name": "stdout",
     "output_type": "stream",
     "text": [
      "Joint angles (radians):  [ 2.65252784  1.5159563  -0.75143509  1.74329513]\n",
      "End Effector Position (point x,y,z):  [-0.85080076  0.45278552  0.62710381]\n",
      "End Effector Orientation (quaternion x,y,z,w):  (np.float64(0.9219415685560793), np.float64(-0.23004830313745706), np.float64(-0.3023409379348281), np.float64(-0.07544189579153755))\n"
     ]
    }
   ],
   "source": [
    "import numpy as np\n",
    "\n",
    "from utils.robot_arm import RobotArm\n",
    "\n",
    "# Create a 4-DOF robot arm with 5 links, each of length 1.0 unit.\n",
    "num_joints = 4\n",
    "joint_limits = [(-1*np.pi, 1*np.pi), (-0.8*np.pi, 0.8*np.pi), (-0.8*np.pi, 0.8*np.pi), (-0.8*np.pi, 0.8*np.pi)]\n",
    "rotation_axes = ['z', 'y', 'y', 'y']\n",
    "link_lengths = [0.2, 0.2, 0.5, 0.5, 0.2]\n",
    "link_axes = ['z', 'z', 'z', 'z', 'z']\n",
    "\n",
    "# Instantiate the RobotArm object\n",
    "robot_arm = RobotArm(num_joints=num_joints, \n",
    "                     joint_limits=joint_limits, \n",
    "                     link_lengths=link_lengths, \n",
    "                     rotation_axes=rotation_axes,\n",
    "                     link_axes=link_axes)\n",
    "\n",
    "# Test forward kinematics\n",
    "test_angles = robot_arm.sample_random_joint_angles()\n",
    "pos, quat = robot_arm.forward_kinematics(test_angles)\n",
    "print(\"Joint angles (radians): \", test_angles)\n",
    "print(\"End Effector Position (point x,y,z): \", pos)\n",
    "print(\"End Effector Orientation (quaternion x,y,z,w): \", quat)"
   ]
  },
  {
   "cell_type": "markdown",
   "metadata": {},
   "source": [
    "### Generate Targets\n",
    "Our target is the position and orientation of the end effector. We generate a uniformly random set of those. "
   ]
  },
  {
   "cell_type": "code",
   "execution_count": 8,
   "metadata": {},
   "outputs": [
    {
     "name": "stdout",
     "output_type": "stream",
     "text": [
      "Generated random joint samples shape: (100000, 4)\n"
     ]
    }
   ],
   "source": [
    "num_samples = 100000  # Parameter to control the number of samples\n",
    "\n",
    "joint_samples = np.zeros((num_samples, robot_arm.num_joints))\n",
    "\n",
    "# Generate random angles for each joint within its allowed range.\n",
    "for i, (low, high) in enumerate(robot_arm.joint_limits):\n",
    "    joint_samples[:, i] = np.random.uniform(low, high, size=num_samples)\n",
    "\n",
    "print(\"Generated random joint samples shape:\", joint_samples.shape)"
   ]
  },
  {
   "cell_type": "markdown",
   "metadata": {},
   "source": [
    "### Generate Features\n",
    "Our features are the position and orientation of the end effector.\n",
    "\n"
   ]
  },
  {
   "cell_type": "code",
   "execution_count": 9,
   "metadata": {},
   "outputs": [
    {
     "name": "stdout",
     "output_type": "stream",
     "text": [
      "Joint data shape: (100000, 39)\n"
     ]
    }
   ],
   "source": [
    "# Preallocate lists to store positions and quaternions for all joints\n",
    "joint_data = []\n",
    "\n",
    "# Loop through each sample and compute the joint poses\n",
    "for joint_angles in joint_samples:\n",
    "    # Get poses for all joints including base and end effector\n",
    "    poses = robot_arm.get_joint_poses(joint_angles)\n",
    "    \n",
    "    # Skip base (index 0) and collect data for all joints and end effector\n",
    "    sample_data = []\n",
    "    \n",
    "    # Add joint angles first\n",
    "    sample_data.extend(joint_angles)\n",
    "    \n",
    "    # Add position and orientation for each joint (skip base at index 0)\n",
    "    for i in range(1, len(poses)):\n",
    "        pos, quat = poses[i]\n",
    "        sample_data.extend(pos)        # Add position [x, y, z]\n",
    "        sample_data.extend(quat)       # Add quaternion [x, y, z, w]\n",
    "    \n",
    "    joint_data.append(sample_data)\n",
    "\n",
    "# Convert the list to a numpy array\n",
    "joint_samples_data = np.array(joint_data)\n",
    "\n",
    "print(\"Joint data shape:\", joint_samples_data.shape)"
   ]
  },
  {
   "cell_type": "markdown",
   "metadata": {},
   "source": [
    "### Save Dataset"
   ]
  },
  {
   "cell_type": "code",
   "execution_count": 10,
   "metadata": {},
   "outputs": [
    {
     "name": "stdout",
     "output_type": "stream",
     "text": [
      "CSV file saved as c:\\Users\\cjsta\\git\\inverse_kinematics_prediction\\data\\raw\\dataset.csv\n",
      "Column names: ['joint_1_angle', 'joint_2_angle', 'joint_3_angle', 'joint_4_angle', 'joint_1_pos_x', 'joint_1_pos_y', 'joint_1_pos_z', 'joint_1_quat_x', 'joint_1_quat_y', 'joint_1_quat_z', 'joint_1_quat_w', 'joint_2_pos_x', 'joint_2_pos_y', 'joint_2_pos_z', 'joint_2_quat_x', 'joint_2_quat_y', 'joint_2_quat_z', 'joint_2_quat_w', 'joint_3_pos_x', 'joint_3_pos_y', 'joint_3_pos_z', 'joint_3_quat_x', 'joint_3_quat_y', 'joint_3_quat_z', 'joint_3_quat_w', 'joint_4_pos_x', 'joint_4_pos_y', 'joint_4_pos_z', 'joint_4_quat_x', 'joint_4_quat_y', 'joint_4_quat_z', 'joint_4_quat_w', 'end_effector_pos_x', 'end_effector_pos_y', 'end_effector_pos_z', 'end_effector_quat_x', 'end_effector_quat_y', 'end_effector_quat_z', 'end_effector_quat_w']\n"
     ]
    }
   ],
   "source": [
    "import pandas as pd\n",
    "\n",
    "# Create column names\n",
    "columns = []\n",
    "\n",
    "# Joint angle columns\n",
    "for i in range(robot_arm.num_joints):\n",
    "    columns.append(f'joint_{i+1}_angle')\n",
    "\n",
    "# For each joint (skip base), add position and orientation columns\n",
    "for i in range(1, robot_arm.num_joints + 2):  # +2 because we have num_joints+1 links (including end effector)\n",
    "    if i <= robot_arm.num_joints:\n",
    "        prefix = f'joint_{i}'\n",
    "    else:\n",
    "        prefix = 'end_effector'\n",
    "    \n",
    "    # Add position columns\n",
    "    columns.extend([f'{prefix}_pos_x', f'{prefix}_pos_y', f'{prefix}_pos_z'])\n",
    "    \n",
    "    # Add orientation columns\n",
    "    columns.extend([f'{prefix}_quat_x', f'{prefix}_quat_y', f'{prefix}_quat_z', f'{prefix}_quat_w'])\n",
    "\n",
    "# Create a DataFrame with the data and the dynamically generated column names\n",
    "df = pd.DataFrame(joint_samples_data, columns=columns)\n",
    "\n",
    "# Create the target directory if it doesn't exist\n",
    "target_dir = os.path.join(project_root, \"data\", \"raw\")\n",
    "os.makedirs(target_dir, exist_ok=True)\n",
    "\n",
    "# Define the file path\n",
    "file_path = os.path.join(target_dir, \"dataset.csv\")\n",
    "df.to_csv(file_path, index=False)\n",
    "\n",
    "print(\"CSV file saved as\", file_path)\n",
    "print(\"Column names:\", columns)"
   ]
  }
 ],
 "metadata": {
  "kernelspec": {
   "display_name": "Inverse-Kinematics-Prediction",
   "language": "python",
   "name": "python3"
  },
  "language_info": {
   "codemirror_mode": {
    "name": "ipython",
    "version": 3
   },
   "file_extension": ".py",
   "mimetype": "text/x-python",
   "name": "python",
   "nbconvert_exporter": "python",
   "pygments_lexer": "ipython3",
   "version": "3.13.2"
  }
 },
 "nbformat": 4,
 "nbformat_minor": 2
}
