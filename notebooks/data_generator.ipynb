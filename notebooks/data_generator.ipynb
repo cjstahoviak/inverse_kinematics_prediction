{
 "cells": [
  {
   "cell_type": "markdown",
   "metadata": {},
   "source": [
    "# Generate Dataset\n",
    "\n",
    "This notebook geenrates a dataset for a 4 DoF spatial robotic arm described below:\n",
    "- 4 revolute joints with no limits\n",
    "- 5 links  each 1 unit long\n",
    "\n",
    "Our dataset consists of a set of features, $X$, and a set of targets $y$.\n",
    "- $X$ consists of a 7 values. The first 3 represent a point $(x,y,z)$ and the last 4 represent an orientation in the form of a quaternion $(x,y,z,w)$\n",
    "- $y$ consists of joint angles, with the amount of features being equal to the amount of joints."
   ]
  },
  {
   "cell_type": "markdown",
   "metadata": {},
   "source": [
    "### Adjust Path\n",
    "In order to use the RobotArm class located in `inverse_kinematics_prediction/utils/robot_arm.py` we need to add this project to our system path."
   ]
  },
  {
   "cell_type": "code",
   "execution_count": 1,
   "metadata": {},
   "outputs": [
    {
     "name": "stdout",
     "output_type": "stream",
     "text": [
      "Current working directory: c:\\Users\\cjsta\\git\\inverse_kinematics_prediction\\notebooks\n",
      "Project root added to sys.path: c:\\Users\\cjsta\\git\\inverse_kinematics_prediction\n"
     ]
    }
   ],
   "source": [
    "import sys\n",
    "import os\n",
    "\n",
    "# Add the parent directory (project root) relative to the current working directory.\n",
    "project_root = os.path.abspath(os.path.join(os.getcwd(), \"..\"))\n",
    "if project_root not in sys.path:\n",
    "    sys.path.insert(0, project_root)\n",
    "\n",
    "print(\"Current working directory:\", os.getcwd())\n",
    "print(\"Project root added to sys.path:\", project_root)"
   ]
  },
  {
   "cell_type": "markdown",
   "metadata": {},
   "source": [
    "### Create a RobotArm object\n",
    "The RobotArm object defines the structure of a desired arm and can calculate the location of it's end effector."
   ]
  },
  {
   "cell_type": "code",
   "execution_count": 2,
   "metadata": {},
   "outputs": [
    {
     "name": "stdout",
     "output_type": "stream",
     "text": [
      "Joint angles (radians):  [1.15494794 0.26021044 2.6582621 ]\n",
      "End Effector Position (point x,y,z):  [-0.39753814 -0.90021781  0.30016916]\n",
      "End Effector Orientation (quaternion x,y,z,w):  (np.float64(-0.542515685970297), np.float64(0.8326359531464224), np.float64(0.06077541873462081), np.float64(0.09327619461448072))\n"
     ]
    }
   ],
   "source": [
    "import numpy as np\n",
    "\n",
    "from utils.robot_arm import RobotArm\n",
    "\n",
    "# Create a 4-DOF robot arm with 5 links, each of length 1.0 unit.\n",
    "num_joints = 3\n",
    "joint_limits = [(0, 2*np.pi)] * num_joints\n",
    "rotation_axes = ['z', 'y', 'y']\n",
    "link_lengths = [1.0] * (num_joints + 1)\n",
    "link_axes = ['z', 'x', 'x', 'x']\n",
    "\n",
    "# Instantiate the RobotArm object\n",
    "robot_arm = RobotArm(num_joints=num_joints, \n",
    "                     joint_limits=joint_limits, \n",
    "                     link_lengths=link_lengths, \n",
    "                     rotation_axes=rotation_axes,\n",
    "                     link_axes=link_axes)\n",
    "\n",
    "# Test forward kinematics\n",
    "test_angles = robot_arm.sample_random_joint_angles()\n",
    "pos, quat = robot_arm.forward_kinematics(test_angles)\n",
    "print(\"Joint angles (radians): \", test_angles)\n",
    "print(\"End Effector Position (point x,y,z): \", pos)\n",
    "print(\"End Effector Orientation (quaternion x,y,z,w): \", quat)"
   ]
  },
  {
   "cell_type": "markdown",
   "metadata": {},
   "source": [
    "### Generate Targets\n",
    "Our target is the position and orientation of the end effector. We generate a uniformly random set of those. "
   ]
  },
  {
   "cell_type": "code",
   "execution_count": 3,
   "metadata": {},
   "outputs": [
    {
     "name": "stdout",
     "output_type": "stream",
     "text": [
      "Generated random joint samples shape: (100000, 3)\n"
     ]
    }
   ],
   "source": [
    "num_samples = 100000  # Parameter to control the number of samples\n",
    "\n",
    "joint_samples = np.zeros((num_samples, robot_arm.num_joints))\n",
    "\n",
    "# Generate random angles for each joint within its allowed range.\n",
    "for i, (low, high) in enumerate(robot_arm.joint_limits):\n",
    "    joint_samples[:, i] = np.random.uniform(low, high, size=num_samples)\n",
    "\n",
    "print(\"Generated random joint samples shape:\", joint_samples.shape)"
   ]
  },
  {
   "cell_type": "markdown",
   "metadata": {},
   "source": [
    "### Generate Features\n",
    "Our features are the position and orientation of the end effector.\n",
    "\n"
   ]
  },
  {
   "cell_type": "code",
   "execution_count": 4,
   "metadata": {},
   "outputs": [
    {
     "name": "stdout",
     "output_type": "stream",
     "text": [
      "Position samples shape: (100000, 3)\n",
      "Quaternion samples shape: (100000, 4)\n"
     ]
    }
   ],
   "source": [
    "# Preallocate lists to store positions and quaternions\n",
    "position_list = []\n",
    "quaternion_list = []\n",
    "\n",
    "# Loop through each sample and compute the forward kinematics\n",
    "for joint_angles in joint_samples:\n",
    "    pos, quat = robot_arm.forward_kinematics(joint_angles)\n",
    "    position_list.append(pos)\n",
    "    quaternion_list.append(quat)\n",
    "\n",
    "# Convert the lists to numpy arrays\n",
    "position_samples = np.array(position_list)       # Shape should be (100000, 3)\n",
    "quaternion_samples = np.array(quaternion_list)     # Shape should be (100000, 4)\n",
    "\n",
    "print(\"Position samples shape:\", position_samples.shape)\n",
    "print(\"Quaternion samples shape:\", quaternion_samples.shape)"
   ]
  },
  {
   "cell_type": "markdown",
   "metadata": {},
   "source": [
    "### Save Dataset"
   ]
  },
  {
   "cell_type": "code",
   "execution_count": 5,
   "metadata": {},
   "outputs": [
    {
     "name": "stdout",
     "output_type": "stream",
     "text": [
      "CSV file saved as c:\\Users\\cjsta\\git\\inverse_kinematics_prediction\\data\\raw\\dataset.csv\n"
     ]
    }
   ],
   "source": [
    "import pandas as pd\n",
    "\n",
    "# Dynamically create joint angle column names based on the number of joints.\n",
    "joint_angle_columns = [f'joint_angle_{i+1}' for i in range(robot_arm.num_joints)]\n",
    "position_columns = ['pos_x', 'pos_y', 'pos_z']\n",
    "quaternion_columns = ['quat_x', 'quat_y', 'quat_z', 'quat_w']\n",
    "\n",
    "# Concatenate the lists to form the final list of columns.\n",
    "columns = joint_angle_columns + position_columns + quaternion_columns\n",
    "\n",
    "# Concatenate the arrays along the columns\n",
    "data = np.concatenate((joint_samples, position_samples, quaternion_samples), axis=1)\n",
    "\n",
    "# Create a DataFrame with the data and the dynamically generated column names.\n",
    "df = pd.DataFrame(data, columns=columns)\n",
    "\n",
    "# Create the target directory if it doesn't exist.\n",
    "target_dir = os.path.join(project_root, \"data\", \"raw\")\n",
    "os.makedirs(target_dir, exist_ok=True)\n",
    "\n",
    "# Define the file path; you might update the file name if the DOF changes.\n",
    "file_path = os.path.join(target_dir, \"dataset.csv\")\n",
    "df.to_csv(file_path, index=False)\n",
    "\n",
    "print(\"CSV file saved as\", file_path)"
   ]
  }
 ],
 "metadata": {
  "kernelspec": {
   "display_name": "Inverse-Kinematics-Prediction",
   "language": "python",
   "name": "python3"
  },
  "language_info": {
   "codemirror_mode": {
    "name": "ipython",
    "version": 3
   },
   "file_extension": ".py",
   "mimetype": "text/x-python",
   "name": "python",
   "nbconvert_exporter": "python",
   "pygments_lexer": "ipython3",
   "version": "3.13.2"
  }
 },
 "nbformat": 4,
 "nbformat_minor": 2
}
