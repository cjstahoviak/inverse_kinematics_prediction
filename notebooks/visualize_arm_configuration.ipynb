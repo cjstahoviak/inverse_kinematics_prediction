{
 "cells": [
  {
   "cell_type": "markdown",
   "metadata": {},
   "source": [
    "# Arm Visualizer\n",
    "Uses Plotly to visualize the configuration of an arm given a set of joint angles."
   ]
  },
  {
   "cell_type": "markdown",
   "metadata": {},
   "source": [
    "### Adjust Path\n",
    "In order to use the RobotArm class located in `inverse_kinematics_prediction/utils/robot_arm.py` we need to add this project to our system path."
   ]
  },
  {
   "cell_type": "code",
   "execution_count": 52,
   "metadata": {},
   "outputs": [
    {
     "name": "stdout",
     "output_type": "stream",
     "text": [
      "Current working directory: c:\\Users\\cjsta\\git\\inverse_kinematics_prediction\\notebooks\n",
      "Project root added to sys.path: c:\\Users\\cjsta\\git\\inverse_kinematics_prediction\n"
     ]
    }
   ],
   "source": [
    "import sys\n",
    "import os\n",
    "\n",
    "# Add the parent directory (project root) relative to the current working directory.\n",
    "project_root = os.path.abspath(os.path.join(os.getcwd(), \"..\"))\n",
    "if project_root not in sys.path:\n",
    "    sys.path.insert(0, project_root)\n",
    "\n",
    "print(\"Current working directory:\", os.getcwd())\n",
    "print(\"Project root added to sys.path:\", project_root)"
   ]
  },
  {
   "cell_type": "markdown",
   "metadata": {},
   "source": [
    "### Create RobotArm Object"
   ]
  },
  {
   "cell_type": "code",
   "execution_count": 53,
   "metadata": {},
   "outputs": [
    {
     "name": "stdout",
     "output_type": "stream",
     "text": [
      "Joint angles (radians):  [ 2.93147599 -1.47213581  2.25517577 -0.92163089]\n",
      "End Effector Position (point x,y,z):  [ 0.16868597 -0.03597471  1.00171875]\n",
      "End Effector Orientation (quaternion x,y,z,w):  (np.float64(0.0688582613585474), np.float64(-0.007260867165628025), np.float64(0.992099709607962), np.float64(0.10461350699827655))\n"
     ]
    }
   ],
   "source": [
    "import numpy as np\n",
    "\n",
    "from utils.robot_arm import RobotArm\n",
    "\n",
    "# Create a 4-DOF robot arm with 5 links, each of length 1.0 unit.\n",
    "num_joints = 4\n",
    "joint_limits = [(-1*np.pi, 1*np.pi), (-0.8*np.pi, 0.8*np.pi), (-0.8*np.pi, 0.8*np.pi), (-0.8*np.pi, 0.8*np.pi)]\n",
    "rotation_axes = ['z', 'y', 'y', 'y']\n",
    "link_lengths = [0.2, 0.2, 0.5, 0.5, 0.2]\n",
    "link_axes = ['z', 'z', 'z', 'z', 'z']\n",
    "\n",
    "# Instantiate the RobotArm object\n",
    "robot_arm = RobotArm(num_joints=num_joints, \n",
    "                     joint_limits=joint_limits, \n",
    "                     link_lengths=link_lengths, \n",
    "                     rotation_axes=rotation_axes,\n",
    "                     link_axes=link_axes)\n",
    "\n",
    "# Test forward kinematics\n",
    "test_angles = robot_arm.sample_random_joint_angles()\n",
    "# test_angles = np.array([0.0, 0.0, 0.0, 0.0])\n",
    "\n",
    "pos, quat = robot_arm.forward_kinematics(test_angles)\n",
    "print(\"Joint angles (radians): \", test_angles)\n",
    "print(\"End Effector Position (point x,y,z): \", pos)\n",
    "print(\"End Effector Orientation (quaternion x,y,z,w): \", quat)"
   ]
  },
  {
   "cell_type": "markdown",
   "metadata": {},
   "source": [
    "### Visualization Helper Functions"
   ]
  },
  {
   "cell_type": "code",
   "execution_count": 54,
   "metadata": {},
   "outputs": [],
   "source": [
    "import numpy as np\n",
    "import plotly.graph_objects as go\n",
    "\n",
    "# --- Helper Functions for Plotly Visualization ---\n",
    "\n",
    "def get_rotation_matrix_for_axis(axis_str):\n",
    "    \"\"\"\n",
    "    Return a 3x3 rotation matrix that rotates a vector from the default (z-axis)\n",
    "    to be aligned with the specified axis ('x', 'y', or 'z').\n",
    "    Here the default cylinder is built along the z-axis.\n",
    "    \"\"\"\n",
    "    axis_str = axis_str.lower()\n",
    "    if axis_str == 'x':\n",
    "        # Rotate from z to x: rotate -90° about y.\n",
    "        angle = -np.pi/2\n",
    "        R = np.array([\n",
    "            [ np.cos(angle), 0, np.sin(angle)],\n",
    "            [ 0,             1, 0],\n",
    "            [-np.sin(angle), 0, np.cos(angle)]\n",
    "        ])\n",
    "    elif axis_str == 'y':\n",
    "        # Rotate from z to y: rotate +90° about x.\n",
    "        angle = np.pi/2\n",
    "        R = np.array([\n",
    "            [1, 0,             0],\n",
    "            [0, np.cos(angle), -np.sin(angle)],\n",
    "            [0, np.sin(angle),  np.cos(angle)]\n",
    "        ])\n",
    "    elif axis_str == 'z':\n",
    "        R = np.eye(3)\n",
    "    else:\n",
    "        raise ValueError(\"Invalid axis string. Must be 'x', 'y', or 'z'.\")\n",
    "    return R\n",
    "\n",
    "def cylinder_mesh(center, axis_str, radius=0.05, height=0.15, resolution=20):\n",
    "    \"\"\"\n",
    "    Compute mesh grids (X, Y, Z) for a cylinder built along the default z-axis and then\n",
    "    rotated so its long axis aligns with the specified axis (axis_str). The mesh is then translated \n",
    "    to the provided center.\n",
    "    \"\"\"\n",
    "    z = np.linspace(-height/2, height/2, resolution)\n",
    "    theta = np.linspace(0, 2*np.pi, resolution)\n",
    "    theta_grid, z_grid = np.meshgrid(theta, z)\n",
    "    x_grid = radius * np.cos(theta_grid)\n",
    "    y_grid = radius * np.sin(theta_grid)\n",
    "    # Flatten the grid for transformation.\n",
    "    points = np.vstack((x_grid.ravel(), y_grid.ravel(), z_grid.ravel()))\n",
    "    \n",
    "    # Rotate from default z-axis to desired axis.\n",
    "    R_align = get_rotation_matrix_for_axis(axis_str)\n",
    "    rotated_points = R_align.dot(points)\n",
    "    \n",
    "    # Reshape and translate.\n",
    "    X = rotated_points[0, :].reshape(theta_grid.shape) + center[0]\n",
    "    Y = rotated_points[1, :].reshape(theta_grid.shape) + center[1]\n",
    "    Z = rotated_points[2, :].reshape(theta_grid.shape) + center[2]\n",
    "    \n",
    "    return X, Y, Z\n",
    "\n",
    "def quaternion_to_rotation_matrix(quat):\n",
    "    \"\"\"\n",
    "    Convert a quaternion (in ROS format: (x, y, z, w)) to a 3x3 rotation matrix.\n",
    "    \"\"\"\n",
    "    x, y, z, w = quat\n",
    "    R = np.array([\n",
    "        [1 - 2*(y**2 + z**2),   2*(x*y - z*w),       2*(x*z + y*w)],\n",
    "        [2*(x*y + z*w),         1 - 2*(x**2 + z**2), 2*(y*z - x*w)],\n",
    "        [2*(x*z - y*w),         2*(y*z + x*w),       1 - 2*(x**2 + y**2)]\n",
    "    ])\n",
    "    return R\n",
    "\n",
    "def create_circle_arc_points(center, rotation_axis, current_link_dir, next_link_dir, joint_limit, radius=0.05, n_points=60):\n",
    "    \"\"\"\n",
    "    Create points forming an arc in 3D space within the joint limits.\n",
    "    \n",
    "    Parameters:\n",
    "    - center: The center point of the circle (3D coordinates)\n",
    "    - rotation_axis: A vector perpendicular to the circle's plane (rotation axis)\n",
    "    - current_link_dir: Direction vector of the current link\n",
    "    - next_link_dir: Direction vector of the next link\n",
    "    - joint_limit: Tuple (min_angle, max_angle) in radians\n",
    "    - radius: The radius of the circle\n",
    "    - n_points: Number of points to generate along the arc\n",
    "    \n",
    "    Returns:\n",
    "    - A numpy array containing the 3D coordinates of the arc points\n",
    "    - The theta values used to generate the arc points\n",
    "    \"\"\"\n",
    "    # Normalize vectors\n",
    "    rotation_axis = rotation_axis / np.linalg.norm(rotation_axis)\n",
    "    current_link_dir = current_link_dir / np.linalg.norm(current_link_dir)\n",
    "    next_link_dir = next_link_dir / np.linalg.norm(next_link_dir)\n",
    "    \n",
    "    # For the reference angle, we need to use the next link direction\n",
    "    # because that's what actually gets rotated by this joint\n",
    "    \n",
    "    # Project next_link_dir onto the plane perpendicular to rotation_axis\n",
    "    next_link_dir_proj = next_link_dir - np.dot(next_link_dir, rotation_axis) * rotation_axis\n",
    "    \n",
    "    # If next_link_dir is parallel to rotation_axis, we need a different approach\n",
    "    if np.linalg.norm(next_link_dir_proj) < 1e-5:\n",
    "        # Use current_link_dir as a fallback\n",
    "        current_link_dir_proj = current_link_dir - np.dot(current_link_dir, rotation_axis) * rotation_axis\n",
    "        \n",
    "        if np.linalg.norm(current_link_dir_proj) < 1e-5:\n",
    "            # If both are parallel to rotation_axis, use a default vector\n",
    "            if np.abs(rotation_axis[2]) < 0.9:\n",
    "                v1 = np.array([-rotation_axis[1], rotation_axis[0], 0])\n",
    "            else:\n",
    "                v1 = np.array([1, 0, 0])\n",
    "        else:\n",
    "            v1 = current_link_dir_proj\n",
    "    else:\n",
    "        v1 = next_link_dir_proj\n",
    "    \n",
    "    # Normalize v1\n",
    "    v1 = v1 / np.linalg.norm(v1)\n",
    "    \n",
    "    # v2 is perpendicular to both rotation_axis and v1\n",
    "    v2 = np.cross(rotation_axis, v1)\n",
    "    v2 = v2 / np.linalg.norm(v2)\n",
    "    \n",
    "    # Get the min and max angles\n",
    "    min_angle, max_angle = joint_limit\n",
    "    \n",
    "    # Generate arc points within joint limits\n",
    "    if max_angle - min_angle >= 2 * np.pi:\n",
    "        # Full circle case\n",
    "        theta = np.linspace(0, 2 * np.pi, n_points)\n",
    "    else:\n",
    "        # Arc case\n",
    "        theta = np.linspace(min_angle, max_angle, n_points)\n",
    "    \n",
    "    # Generate arc points\n",
    "    arc_points = center.reshape(1, 3) + radius * (np.outer(np.cos(theta), v1) + np.outer(np.sin(theta), v2))\n",
    "    \n",
    "    # Store v1 and v2 for use in calculating current position\n",
    "    basis_vectors = (v1, v2)\n",
    "    \n",
    "    return arc_points, theta, basis_vectors\n",
    "\n",
    "\n",
    "# Get joint rotation axes in world frame\n",
    "def get_joint_rotation_axes(robot_arm, joint_angles):\n",
    "    \"\"\"\n",
    "    Get the rotation axes for each joint in world coordinates along with joint limits and link directions.\n",
    "    \n",
    "    Parameters:\n",
    "    - robot_arm: The RobotArm instance\n",
    "    - joint_angles: Joint angles\n",
    "    \n",
    "    Returns:\n",
    "    - List of (joint_position, rotation_axis, link_dir, next_link_dir, joint_limit) tuples in world frame\n",
    "    \"\"\"\n",
    "    poses = robot_arm.get_joint_poses(joint_angles)\n",
    "    rotation_axes_world = []\n",
    "    \n",
    "    for i in range(1, len(poses)-1):  # Skip base and end-effector\n",
    "        joint_idx = i-1  # Joint index is offset by 1 from pose index\n",
    "        joint_pos = poses[i][0]\n",
    "        joint_orientation = poses[i][1]\n",
    "        \n",
    "        # Get rotation axis in local frame ('x', 'y', or 'z')\n",
    "        local_rot_axis_str = robot_arm.rotation_axes[joint_idx]\n",
    "        \n",
    "        # Get the current and next link axis\n",
    "        current_link_axis_str = robot_arm.link_axes[joint_idx]\n",
    "        next_link_axis_str = robot_arm.link_axes[joint_idx + 1]\n",
    "        \n",
    "        # Convert rotation axis to vector\n",
    "        if local_rot_axis_str == 'x':\n",
    "            local_rot_axis = np.array([1, 0, 0])\n",
    "        elif local_rot_axis_str == 'y':\n",
    "            local_rot_axis = np.array([0, 1, 0])\n",
    "        elif local_rot_axis_str == 'z':\n",
    "            local_rot_axis = np.array([0, 0, 1])\n",
    "            \n",
    "        # Convert current link axis to vector\n",
    "        if current_link_axis_str == 'x':\n",
    "            current_link_dir = np.array([1, 0, 0])\n",
    "        elif current_link_axis_str == 'y':\n",
    "            current_link_dir = np.array([0, 1, 0])\n",
    "        elif current_link_axis_str == 'z':\n",
    "            current_link_dir = np.array([0, 0, 1])\n",
    "            \n",
    "        # Convert next link axis to vector\n",
    "        if next_link_axis_str == 'x':\n",
    "            next_link_dir = np.array([1, 0, 0])\n",
    "        elif next_link_axis_str == 'y':\n",
    "            next_link_dir = np.array([0, 1, 0])\n",
    "        elif next_link_axis_str == 'z':\n",
    "            next_link_dir = np.array([0, 0, 1])\n",
    "        \n",
    "        # Transform to world frame using joint orientation (quaternion)\n",
    "        R = robot_arm._quaternion_to_rotation_matrix(joint_orientation)\n",
    "        world_rot_axis = R @ local_rot_axis\n",
    "        world_current_link_dir = R @ current_link_dir\n",
    "        world_next_link_dir = R @ next_link_dir\n",
    "        \n",
    "        # Get joint limits\n",
    "        joint_limit = robot_arm.joint_limits[joint_idx]\n",
    "        \n",
    "        rotation_axes_world.append((joint_pos, world_rot_axis, world_current_link_dir, world_next_link_dir, joint_limit))\n",
    "    \n",
    "    return rotation_axes_world"
   ]
  },
  {
   "cell_type": "markdown",
   "metadata": {},
   "source": [
    "### Visualize\n",
    "Let's visualize a sample configuration in 3D."
   ]
  },
  {
   "cell_type": "code",
   "execution_count": 55,
   "metadata": {},
   "outputs": [],
   "source": [
    "def visualize_robot_arm(robot_arm, joint_angles):\n",
    "    # Get the full chain of poses\n",
    "    poses = robot_arm.get_joint_poses(joint_angles)\n",
    "    positions = np.array([pose[0] for pose in poses])\n",
    "    \n",
    "    # Get joint rotation axes and limits in world frame\n",
    "    joint_axes = get_joint_rotation_axes(robot_arm, joint_angles)\n",
    "    \n",
    "    # Compute the overall data bounds\n",
    "    x_min, x_max = positions[:,0].min(), positions[:,0].max()\n",
    "    y_min, y_max = positions[:,1].min(), positions[:,1].max()\n",
    "    z_min, z_max = positions[:,2].min(), positions[:,2].max()\n",
    "    \n",
    "    # Add some padding to ensure all markers are visible\n",
    "    padding = 0.1  # Increased padding\n",
    "    x_min -= padding\n",
    "    x_max += padding\n",
    "    y_min -= padding\n",
    "    y_max += padding\n",
    "    z_min -= padding\n",
    "    z_max += padding\n",
    "    \n",
    "    x_center = (x_min + x_max) / 2\n",
    "    y_center = (y_min + y_max) / 2\n",
    "    z_center = (z_min + z_max) / 2\n",
    "    max_range = max(x_max - x_min, y_max - y_min, z_max - z_min)\n",
    "    half_range = max_range / 2\n",
    "    \n",
    "    # Set the axis range as a cube centered on the data\n",
    "    x_range = [x_center - half_range, x_center + half_range]\n",
    "    y_range = [y_center - half_range, y_center + half_range]\n",
    "    z_range = [0, 2*half_range]  # Keep the Z-axis starting from 0\n",
    "    \n",
    "    # Create a Plotly figure\n",
    "    fig = go.Figure()\n",
    "    \n",
    "    # Add a filled square base\n",
    "    base_size = 0.05  # Reduced from 0.1 to 0.05\n",
    "    \n",
    "    # Create a surface for the base (filled square)\n",
    "    x_base = np.array([[-base_size, base_size, base_size, -base_size],\n",
    "                        [-base_size, base_size, base_size, -base_size]])\n",
    "    y_base = np.array([[-base_size, -base_size, base_size, base_size],\n",
    "                        [-base_size, -base_size, base_size, base_size]])\n",
    "    z_base = np.array([[0, 0, 0, 0],\n",
    "                        [0.005, 0.005, 0.005, 0.005]])  # Small thickness\n",
    "\n",
    "    fig.add_trace(go.Surface(\n",
    "        x=x_base,\n",
    "        y=y_base,\n",
    "        z=z_base,\n",
    "        colorscale=[[0, 'darkblue'], [1, 'darkblue']],\n",
    "        showscale=False,\n",
    "        name='Base'\n",
    "    ))\n",
    "    \n",
    "    # Add an outline for the base square\n",
    "    base_corners = np.array([\n",
    "        [-base_size, -base_size, 0],\n",
    "        [base_size, -base_size, 0],\n",
    "        [base_size, base_size, 0],\n",
    "        [-base_size, base_size, 0],\n",
    "        [-base_size, -base_size, 0]  # Close the square\n",
    "    ])\n",
    "    \n",
    "    fig.add_trace(go.Scatter3d(\n",
    "        x=base_corners[:,0],\n",
    "        y=base_corners[:,1],\n",
    "        z=base_corners[:,2],\n",
    "        mode='lines',\n",
    "        line=dict(color='darkblue', width=3),\n",
    "        showlegend=False\n",
    "    ))\n",
    "    \n",
    "    # Add a vertical line from the base square to the first joint\n",
    "    base_center = np.array([0, 0, 0])\n",
    "    first_joint = positions[1]  # Position of the first joint\n",
    "    \n",
    "    fig.add_trace(go.Scatter3d(\n",
    "        x=[base_center[0], first_joint[0]],\n",
    "        y=[base_center[1], first_joint[1]],\n",
    "        z=[base_center[2], first_joint[2]],\n",
    "        mode='lines',\n",
    "        line=dict(color='darkblue', width=5),\n",
    "        name='Base link'\n",
    "    ))\n",
    "    \n",
    "    # Plot the links as a 3D line (starting from the first joint)\n",
    "    fig.add_trace(go.Scatter3d(\n",
    "        x=positions[1:,0],  # Skip the base position\n",
    "        y=positions[1:,1],\n",
    "        z=positions[1:,2],\n",
    "        mode='lines+markers',\n",
    "        line=dict(color='black', width=4),\n",
    "        marker=dict(size=6, color='blue'),\n",
    "        name='Links'\n",
    "    ))\n",
    "    \n",
    "    # Plot rotation plane arcs for each joint\n",
    "    for i, (joint_pos, rotation_axis, current_link_dir, next_link_dir, joint_limit) in enumerate(joint_axes):\n",
    "        radius = 0.1  # Radius of the arc\n",
    "        \n",
    "        # Create a unique color for each joint\n",
    "        joint_color = f'rgb({50+i*50}, {100+i*30}, {150-i*30})'\n",
    "\n",
    "        # Create arc points\n",
    "        arc_points, theta_values, basis_vectors = create_circle_arc_points(\n",
    "            joint_pos, rotation_axis, current_link_dir, next_link_dir, joint_limit, radius=radius)\n",
    "        \n",
    "        v1, v2 = basis_vectors\n",
    "        \n",
    "        # Add the arc to the plot\n",
    "        fig.add_trace(go.Scatter3d(\n",
    "            x=arc_points[:,0],\n",
    "            y=arc_points[:,1],\n",
    "            z=arc_points[:,2],\n",
    "            mode='lines',\n",
    "            line=dict(color=joint_color, width=3),\n",
    "            name=f'Joint {i+1} motion range'\n",
    "        ))\n",
    "        \n",
    "        # Add markers for min and max positions if not a full circle\n",
    "        min_angle, max_angle = joint_limit\n",
    "        if max_angle - min_angle < 2 * np.pi:\n",
    "            # Add the limits as dots with the same color as the motion range\n",
    "            min_arc_pt = arc_points[0]\n",
    "            max_arc_pt = arc_points[-1]\n",
    "            \n",
    "            fig.add_trace(go.Scatter3d(\n",
    "                x=[min_arc_pt[0], max_arc_pt[0]],\n",
    "                y=[min_arc_pt[1], max_arc_pt[1]],\n",
    "                z=[min_arc_pt[2], max_arc_pt[2]],\n",
    "                mode='markers',\n",
    "                marker=dict(\n",
    "                    size=8, \n",
    "                    color=joint_color,  # Use the same color as the arc\n",
    "                    symbol='circle'\n",
    "                ),\n",
    "                name=f'Joint {i+1} limits'\n",
    "            ))\n",
    "        \n",
    "        # Add a small arrow showing the rotation axis\n",
    "        axis_length = 0.15\n",
    "        axis_end = joint_pos + rotation_axis * axis_length\n",
    "        \n",
    "        fig.add_trace(go.Scatter3d(\n",
    "            x=[joint_pos[0], axis_end[0]],\n",
    "            y=[joint_pos[1], axis_end[1]],\n",
    "            z=[joint_pos[2], axis_end[2]],\n",
    "            mode='lines',\n",
    "            line=dict(color=joint_color, width=4, dash='dot'),\n",
    "            name=f'Joint {i+1} axis'\n",
    "        ))\n",
    "        \n",
    "        # Calculate current position based on joint angle directly using the basis vectors\n",
    "        current_angle = joint_angles[i]\n",
    "        current_pt = joint_pos + radius * (np.cos(current_angle) * v1 + np.sin(current_angle) * v2)\n",
    "        \n",
    "        # Add current position marker\n",
    "        fig.add_trace(go.Scatter3d(\n",
    "            x=[current_pt[0]],\n",
    "            y=[current_pt[1]],\n",
    "            z=[current_pt[2]],\n",
    "            mode='markers',\n",
    "            marker=dict(\n",
    "                size=8, \n",
    "                color='yellow',\n",
    "                symbol='diamond'\n",
    "            ),\n",
    "            name=f'Joint {i+1} current position'\n",
    "        ))\n",
    "    \n",
    "    # Visualize quaternions for all joints (including base and end-effector)\n",
    "    # Loop through all poses\n",
    "    frame_axis_length = 0.1  # Smaller length for joint frames than end-effector\n",
    "    \n",
    "    # Define colors for the coordinate frames\n",
    "    axis_colors = ['red', 'green', 'blue']\n",
    "    \n",
    "    for i, (pos, quat) in enumerate(poses):\n",
    "        # Convert quaternion to rotation matrix\n",
    "        R = robot_arm._quaternion_to_rotation_matrix(quat)\n",
    "        \n",
    "        element_name = \"Base\" if i == 0 else \"End-effector\" if i == len(poses) - 1 else f\"Joint {i}\"\n",
    "        \n",
    "        # Scale down the axes for intermediate joints to avoid clutter\n",
    "        actual_axis_length = frame_axis_length if i < len(poses) - 1 else 0.2  # Keep end-effector axes larger\n",
    "        \n",
    "        # For each axis (X, Y, Z)\n",
    "        for j, axis_color in enumerate(axis_colors):\n",
    "            axis_vec = R[:, j] * actual_axis_length\n",
    "            \n",
    "            # Only add the axis to the plot\n",
    "            fig.add_trace(go.Scatter3d(\n",
    "                x=[pos[0], pos[0] + axis_vec[0]],\n",
    "                y=[pos[1], pos[1] + axis_vec[1]],\n",
    "                z=[pos[2], pos[2] + axis_vec[2]],\n",
    "                mode='lines',\n",
    "                line=dict(color=axis_color, width=3 if i < len(poses) - 1 else 5),  # Thinner for joints, thicker for end-effector\n",
    "                name=f'{element_name} {[\"X\", \"Y\", \"Z\"][j]}',\n",
    "                showlegend=True if j == 0 else False  # Only show one legend item per element for cleanliness\n",
    "            ))\n",
    "    \n",
    "    # Update the layout with increased figure size\n",
    "    fig.update_layout(\n",
    "        width=1000,\n",
    "        height=600,\n",
    "        scene=dict(\n",
    "            xaxis=dict(title=\"X\", range=x_range),\n",
    "            yaxis=dict(title=\"Y\", range=y_range),\n",
    "            zaxis=dict(title=\"Z\", range=z_range),\n",
    "            aspectmode='manual',\n",
    "            aspectratio=dict(x=1, y=1, z=1),\n",
    "            camera=dict(\n",
    "                projection=dict(type=\"orthographic\"),\n",
    "                eye=dict(x=1.5, y=1.5, z=1.5) \n",
    "            )\n",
    "        ),\n",
    "        title=\"3D Visualization of Manipulator Configuration\"\n",
    "    )\n",
    "    \n",
    "    return fig"
   ]
  },
  {
   "cell_type": "code",
   "execution_count": 56,
   "metadata": {},
   "outputs": [
    {
     "name": "stdout",
     "output_type": "stream",
     "text": [
      "Joint angles (radians):  [ 2.93147599 -1.47213581  2.25517577 -0.92163089]\n",
      "Joint rotation axes (world frame):  ['z', 'y', 'y', 'y']\n",
      "Link axes (world frame):  ['z', 'z', 'z', 'z']\n",
      "End Effector Position (point x,y,z):  [ 0.16868597 -0.03597471  1.00171875]\n",
      "End Effector Orientation (quaternion x,y,z,w):  (np.float64(0.0688582613585474), np.float64(-0.007260867165628025), np.float64(0.992099709607962), np.float64(0.10461350699827655))\n"
     ]
    },
    {
     "data": {
      "application/vnd.plotly.v1+json": {
       "config": {
        "displayModeBar": true,
        "doubleClick": "reset",
        "modeBarButtonsToAdd": [
         "resetCameraDefault3d"
        ],
        "plotlyServerURL": "https://plot.ly",
        "scrollZoom": true
       },
       "data": [
        {
         "colorscale": [
          [
           0,
           "darkblue"
          ],
          [
           1,
           "darkblue"
          ]
         ],
         "name": "Base",
         "showscale": false,
         "type": "surface",
         "x": {
          "bdata": "mpmZmZmZqb+amZmZmZmpP5qZmZmZmak/mpmZmZmZqb+amZmZmZmpv5qZmZmZmak/mpmZmZmZqT+amZmZmZmpvw==",
          "dtype": "f8",
          "shape": "2, 4"
         },
         "y": {
          "bdata": "mpmZmZmZqb+amZmZmZmpv5qZmZmZmak/mpmZmZmZqT+amZmZmZmpv5qZmZmZmam/mpmZmZmZqT+amZmZmZmpPw==",
          "dtype": "f8",
          "shape": "2, 4"
         },
         "z": {
          "bdata": "AAAAAAAAAAAAAAAAAAAAAAAAAAAAAAAAAAAAAAAAAAB7FK5H4Xp0P3sUrkfhenQ/exSuR+F6dD97FK5H4Xp0Pw==",
          "dtype": "f8",
          "shape": "2, 4"
         }
        },
        {
         "line": {
          "color": "darkblue",
          "width": 3
         },
         "mode": "lines",
         "showlegend": false,
         "type": "scatter3d",
         "x": {
          "bdata": "mpmZmZmZqb+amZmZmZmpP5qZmZmZmak/mpmZmZmZqb+amZmZmZmpvw==",
          "dtype": "f8"
         },
         "y": {
          "bdata": "mpmZmZmZqb+amZmZmZmpv5qZmZmZmak/mpmZmZmZqT+amZmZmZmpvw==",
          "dtype": "f8"
         },
         "z": {
          "bdata": "AAAAAAAAAAAAAAAAAAAAAAAAAAAAAAAAAAAAAAAAAAAAAAAAAAAAAA==",
          "dtype": "f8"
         }
        },
        {
         "line": {
          "color": "darkblue",
          "width": 5
         },
         "mode": "lines",
         "name": "Base link",
         "type": "scatter3d",
         "x": [
          0,
          0
         ],
         "y": [
          0,
          0
         ],
         "z": [
          0,
          0.2
         ]
        },
        {
         "line": {
          "color": "black",
          "width": 4
         },
         "marker": {
          "color": "blue",
          "size": 6
         },
         "mode": "lines+markers",
         "name": "Links",
         "type": "scatter3d",
         "x": {
          "bdata": "AAAAAAAAAAAAAAAAAAAAAE3b51DeJN8/wiGplwwiwj+IAMJ4gJfFPw==",
          "dtype": "f8"
         },
         "y": {
          "bdata": "AAAAAAAAAAAAAAAAAAAAAIWbUAFRkbq/HGtgBd/vnr/IfqkaR2uivw==",
          "dtype": "f8"
         },
         "z": {
          "bdata": "mpmZmZmZyT+amZmZmZnZP5oD5DGEwNw/Q8xTvGO36T8NGys+CgfwPw==",
          "dtype": "f8"
         }
        },
        {
         "line": {
          "color": "rgb(50, 100, 150)",
          "width": 3
         },
         "mode": "lines",
         "name": "Joint 1 motion range",
         "type": "scatter3d",
         "x": {
          "bdata": "mpmZmZmZuT9QVtH4eHS5Pwc+bceCBbk/BF/t3/hNuD8GHc2g70+3PzgJVeRHDrY/Dp9Np6aMtD9kUcp2as+yP197tsOe27A/sv/NgdptrT8q8kPsGs+oP5iqgm9l6KM/hRX63OKPnT8X0xuUO/mSP2h2OPsWV4A/FYq6XLrOZb8f7Djfoy6Lv4r/w4VgTZi/XxAav3heob8kN+/f32Omv+ehsjpVKKu/PD8ixQSer7/vGMt4/9uxv3DUNxovtbO/o+H5wjRVtb8Tlj2+Wbe2v9W6X9Ka17e/g5965LOyuL/QI5dxKUa5vxFAB8JPkLm/EUAHwk+Qub/QI5dxKUa5v4SfeuSzsri/17pf0prXt78Vlj2+Wbe2v6Xh+cI0VbW/c9Q3Gi+1s7/yGMt4/9uxvz8/IsUEnq+/6qGyOlUoq78nN+/f32Omv2YQGr94XqG/l//DhWBNmL847Djfoy6Lv4GKuly6zmW/TnY4+xZXgD8D0xuUO/mSP3IV+tzij50/kKqCb2Xooz8h8kPsGs+oP6j/zYHaba0/W3u2w57bsD9gUcp2as+yPwufTaemjLQ/OAlV5EcOtj8FHc2g70+3PwRf7d/4Tbg/Bj5tx4IFuT9QVtH4eHS5P5qZmZmZmbk/",
          "dtype": "f8"
         },
         "y": {
          "bdata": "AAAAAAAAAABN5bQD18SFP1k6LMZEpZU/fVtQkaoUoD+0NtYEDiilP01a88ET/qk/BdRDzLSIrj9Ap1NrYl2xP7QdcjwMRLM/tD0TPtTytD+LNfvr2GS2P0vIbwHplbc/bs1Soo+CuD8fCb5hHii5P0S0Cwm1hLk/VYy8CEeXuT9fM3ODnl+5P+5fMepc3rg/tK0RKPkUuD9wU8xiuwW3P6USWVy2s7U/6AfhiL4itD8VptvyXleyP7/Jjw3MVrA/OP5jOKlNrD9xxdSyoZunP3edPSAgpaI/LFaKaxPxmj+KEVsNwUmQP100l+C/zHU/QDSX4L/Mdb+DEVsNwUmQvyVWimsT8Zq/bp09ICClor9oxdSyoZunvzD+YzipTay/u8mPDcxWsL8SptvyXleyv+gH4Yi+IrS/pBJZXLaztb9wU8xiuwW3v7OtESj5FLi/7V8x6lzeuL9eM3ODnl+5v1SMvAhHl7m/RbQLCbWEub8gCb5hHii5v3DNUqKPgri/TMhvAemVt7+NNfvr2GS2v7g9Ez7U8rS/uB1yPAxEs79Ep1NrYl2xvxDUQ8y0iK6/TVrzwRP+qb+0NtYEDiilv39bUJGqFKC/XTosxkSllb9Y5bQD18SFv3LGU+sJPXy8",
          "dtype": "f8"
         },
         "z": {
          "bdata": "mpmZmZmZyT+amZmZmZnJP5qZmZmZmck/mpmZmZmZyT+amZmZmZnJP5qZmZmZmck/mpmZmZmZyT+amZmZmZnJP5qZmZmZmck/mpmZmZmZyT+amZmZmZnJP5qZmZmZmck/mpmZmZmZyT+amZmZmZnJP5qZmZmZmck/mpmZmZmZyT+amZmZmZnJP5qZmZmZmck/mpmZmZmZyT+amZmZmZnJP5qZmZmZmck/mpmZmZmZyT+amZmZmZnJP5qZmZmZmck/mpmZmZmZyT+amZmZmZnJP5qZmZmZmck/mpmZmZmZyT+amZmZmZnJP5qZmZmZmck/mpmZmZmZyT+amZmZmZnJP5qZmZmZmck/mpmZmZmZyT+amZmZmZnJP5qZmZmZmck/mpmZmZmZyT+amZmZmZnJP5qZmZmZmck/mpmZmZmZyT+amZmZmZnJP5qZmZmZmck/mpmZmZmZyT+amZmZmZnJP5qZmZmZmck/mpmZmZmZyT+amZmZmZnJP5qZmZmZmck/mpmZmZmZyT+amZmZmZnJP5qZmZmZmck/mpmZmZmZyT+amZmZmZnJP5qZmZmZmck/mpmZmZmZyT+amZmZmZnJP5qZmZmZmck/mpmZmZmZyT+amZmZmZnJP5qZmZmZmck/",
          "dtype": "f8"
         }
        },
        {
         "line": {
          "color": "rgb(50, 100, 150)",
          "dash": "dot",
          "width": 4
         },
         "mode": "lines",
         "name": "Joint 1 axis",
         "type": "scatter3d",
         "x": [
          0,
          0
         ],
         "y": [
          0,
          0
         ],
         "z": [
          0.2,
          0.35
         ]
        },
        {
         "marker": {
          "color": "yellow",
          "size": 8,
          "symbol": "diamond"
         },
         "mode": "markers",
         "name": "Joint 1 current position",
         "type": "scatter3d",
         "x": [
          -0.09780065879230493
         ],
         "y": [
          0.02085740012060824
         ],
         "z": [
          0.2
         ]
        },
        {
         "line": {
          "color": "rgb(100, 130, 120)",
          "width": 3
         },
         "mode": "lines",
         "name": "Joint 2 motion range",
         "type": "scatter3d",
         "x": {
          "bdata": "FH1I3MZurT8v6NsD9mKwP6oU4Ika8LE/EqJJge9bsz9ZmOdG0aO0P8CU6PlexbU//k6L5n6+tj/whaJsYo23P58UrlqJMLg/KtZNt8SmuD8OeOHzOO+4P/luQIRfCbk/keuU2Af1uD+s04m3V7K4P0BJJPjKQbg//APLmzKktz9QjCZKs9q2P2wXqzHD5rU/Gjq9UCfKtD+CzHss8IazP/sgSft1H7I/JyMySlSWsD+KXpJKytytP7xQ5Zd3Vao/6LDx9T2dpj+hzAOuBbuiPxfy0AoKbJ0/bUbJsWUrlT8fv+kA44aJP0any5smD3E/E6fLmyYPcb8Gv+kA44aJv21GybFlK5W/F/LQCgpsnb+hzAOuBbuiv+iw8fU9naa/vFDll3dVqr+FXpJKytytvycjMkpUlrC/+SBJ+3Ufsr+BzHss8Iazvxo6vVAnyrS/bBerMcPmtb9QjCZKs9q2v/wDy5sypLe/P0kk+MpBuL+s04m3V7K4v5HrlNgH9bi/+W5AhF8Jub8OeOHzOO+4vyrWTbfEpri/oBSuWokwuL/whaJsYo23vwBPi+Z+vra/wJTo+V7Ftb9ZmOdG0aO0vxSiSYHvW7O/qhTgiRrwsb8y6NsD9mKwvxR9SNzGbq2/",
          "dtype": "f8"
         },
         "y": {
          "bdata": "qBv/WJkbib+iPY5QFvWLv7QM8Imomo6/y+o44rKDkL8F1nakZpuRv6W2MSNokpK/nHmHrexmk7+Ykv6daReUv9MrYjeXopS/bBBfBXMHlb/0Hne8QUWVv9D+z5WQW5W/CTdXJDZKlb/z2K+hUhGVv0DjWrJPsZS/Sn6Jod8qlL92XwUW/H6Tv7cqlkLkrpK/Z7xAlRq8kb/3Ga3pYaiQvw1Bz4d0646/JGwgM7pMjL/hULpgcnmJvyH6OjPcdoa/vJo8po5Kg7/yQfxZ3PR/v0OtYIJDGXm/1chy7A4Pcr8P4ZeYosZlv8AQ1ePcGk2/ahDV49waTT/54JeYosZlP9XIcuwOD3I/Q61ggkMZeT/yQfxZ3PR/P7yaPKaOSoM/Ifo6M9x2hj/dULpgcnmJPyJsIDO6TIw/DEHPh3Trjj/3Ga3pYaiQP2e8QJUavJE/tyqWQuSukj92XwUW/H6TP0l+iaHfKpQ/P+Nask+xlD/z2K+hUhGVPwk3VyQ2SpU/0P7PlZBblT/0Hne8QUWVP2wQXwVzB5U/1CtiN5eilD+Ykv6daReUP5x5h63sZpM/pbYxI2iSkj8F1nakZpuRP87qOOKyg5A/tAzwiaiajj+nPY5QFvWLP6gb/1iZG4k/",
          "dtype": "f8"
         },
         "z": {
          "bdata": "RQJIRxts1D/k+T9V3MLUP17TZruZItU/WkWsr6GK1T/q2mcCM/rVP11UGIV+cNY/5GQgi6js1j+OV7aBym3XP6YREZz08tc/hlK3kC972D/QP7ZkfgXZPz17akHgkNk/TV1zUVIc2j/uoVqh0abaPxHzcwBdL9s/Y1V33va02z/IjV8ipzbcP98XIvd8s9w/JR/pipAq3T8w+pC9BJvdPxe8SbsIBN4/sFBigNlk3j9dAW1Dw7zeP1LiHMMiC98/FitwdWZP3z+nf/SVD4nfPytHLxGzt98/HOl0S/ra3z9Vsb3Bo/LfP9awTYOD/t8/1rBNg4P+3z9Vsb3Bo/LfPxzpdEv62t8/K0cvEbO33z+nf/SVD4nfPxYrcHVmT98/UuIcwyIL3z9eAW1Dw7zeP7BQYoDZZN4/F7xJuwgE3j8w+pC9BJvdPyUf6YqQKt0/3xci93yz3D/IjV8ipzbcP2RVd972tNs/EvNzAF0v2z/uoVqh0abaP01dc1FSHNo/PXtqQeCQ2T/RP7ZkfgXZP4ZSt5Ave9g/pxERnPTy1z+OV7aBym3XP+RkIIuo7NY/XVQYhX5w1j/q2mcCM/rVP1pFrK+hitU/XtNmu5ki1T/l+T9V3MLUP0UCSEcbbNQ/",
          "dtype": "f8"
         }
        },
        {
         "marker": {
          "color": "rgb(100, 130, 120)",
          "size": 8,
          "symbol": "circle"
         },
         "mode": "markers",
         "name": "Joint 2 limits",
         "type": "scatter3d",
         "x": [
          0.05748578490260506,
          -0.05748578490260506
         ],
         "y": [
          -0.012259672192056772,
          0.012259672192056772
         ],
         "z": [
          0.31909830056250527,
          0.31909830056250527
         ]
        },
        {
         "line": {
          "color": "rgb(100, 130, 120)",
          "dash": "dot",
          "width": 4
         },
         "mode": "lines",
         "name": "Joint 2 axis",
         "type": "scatter3d",
         "x": [
          0,
          -0.03128610018091236
         ],
         "y": [
          0,
          -0.14670098818845745
         ],
         "z": [
          0.4,
          0.4
         ]
        },
        {
         "marker": {
          "color": "yellow",
          "size": 8,
          "symbol": "diamond"
         },
         "mode": "markers",
         "name": "Joint 2 current position",
         "type": "scatter3d",
         "x": [
          0.09732505397977123
         ],
         "y": [
          -0.020755970539286406
         ],
         "z": [
          0.4098500535433516
         ]
        },
        {
         "line": {
          "color": "rgb(150, 160, 90)",
          "width": 3
         },
         "mode": "lines",
         "name": "Joint 3 motion range",
         "type": "scatter3d",
         "x": {
          "bdata": "/T82iZp32j/OR1DxkNbaP5YDWFSGPds/xm2EgLur2z/8sdjNYyDcP8RUMJqmmtw/ZziJ26AZ3T8ucaDFZpzdP3750n8FIt4/miEV6ISp3j+wSLtf6THfP5wxvJ41ut8/y58ERbYg4D8UlsmESWPgP3MxSe1YpOA/rY9YrWvj4D+4UGGkDCDhPwwa4zvLWeE/MxqHODyQ4T8+S0GB+sLhPxOrDdun8eE/uMfsl+0b4j8orNo3fUHiP1dElfoQYuI/4oMjYWx94j/MxiyeXJPiP/HNT/S4o+I/tybKAWOu4j+mgOP4RrPiP4YrtMRbsuI/SHMCGqOr4j9fiBd0KZ/iP8TWkf0FjeI/YtZfZVp14j+WODOgUljiP4aa4JYkNuI/5VBDwg8P4j/cNF+1XOPhP6FTm5Zcs+E/6cUPiWh/4T/8hv4G4UfhP0muqi4tDeE/kb7aArrP4D8ppGmg+Y/gP+dNXmpiTuA/LWQTLm4L4D/mvQ6CMo/fP/YE8jPDBt8/cwv6zYt+3j9XiH5EiffdP0mqSE62ct0/OF//kgnx3D/3SB3hc3PcP73zwm7e+ts/IrijKCmI2z90gTESKRzbP5CqC7qmt9o/GoOPxVxb2j9kGj6W9gfaP0X0egsPvtk/",
          "dtype": "f8"
         },
         "y": {
          "bdata": "miWjBfuTtr9/w1Ez/eS2vxD0LpLRPLe/2RSnCNWat79sVFcBWf63v7KDQa+kZri/4Rj5ZPbSuL+GHEz8hEK5v+4czEuBtLm/6n+Bpxcour/tzv5pcZy6v0YM+oK2ELu/Jt6HCA+Eu7/2eA/IpPW7v9K2DtSkZLy/2bTLC0HQvL/clRyasTe9vzWXfmg2mr2/IFrLgxj3vb/t+PVvq02+v6oCWWhOnb6/oI5Cim3lvr9lAJTngiW/vxCCd38XXb+/HFpdG8SLv7/wu6YOMrG/v+olmtcbzb+/DGh2oE3fv79iorSfpee/v8x6xlYU5r+/igbcrpzav78Q+XvzU8W/v9Uh+Kphpr+/lagHTf99v7+fVA/Yd0y/vxwM3kUnEr+/Oijg4HnPvr85ywZ764S+vxio2IcGM76/OjlXG2Pavb+615XPpXu9vyUjD5N+F72/TVnwYaeuvL/bT7ns4kG8v5Nssi770bu/hv3X9r9fu78KePNlBey6v0E9r2Sid7q/cmiAFG8Dur89wks+Q5C5v3Aqr8H0Hrm/x5jXB1awuL+kPcV8NEW4vwZb0xFX3re/kTlIzHx8t7/iRZtiWyC3v3IQBOudyra/b9HEneN7tr83bX6tvjS2v6wJszez9bW/",
          "dtype": "f8"
         },
         "z": {
          "bdata": "4idtRJx/2D8/bWTqYxvYP4sXwMbLv9c/Wc3M8H1t1z8ZCVI/EyXXP31+vywS59Y/nw5z3e2z1j9VCedJBYzWP+zLVY6ib9Y/BT4aYfpe1j+tvcywK1rWP39B0mo/YdY/z1vIaih01j8A6OySw5LWPwAQVA3YvNY/HpFztRfy1j8+QT+pHzLXP4hbyQB5fNc/3JURq5nQ1z8W9Ghu5S3YPwo7jgqvk9g/bkZoejkB2T9ozghTuXXZP7XIaz1W8Nk/seo1iCxw2j/kQYjOTvTaPz+y17DHe9s/1LSVnJsF3D/ULVyfypDcP9bPOEJSHN0/nGylaS+n3T/25LE2YDDeP7cx4uXltt4/mENHqMY53z+4LmRzD7jfP6sWQeJqGOA/oq0WqpxR4D9Bu1jbMofgP/CcSPPJuOA/c+UN2wXm4D/Y9LiSkg7hPzvgP80kMuE/2P1TfHpQ4T86aQxLW2nhP9S0gQaZfOE/IYeY8w+K4T+C0lsRp5HhP3Jwa0dQk+E/ieYogAiP4T/6uXGu14ThP46u3L7QdOE/Q1qVdBFf4T8AUBcywkPhP8aDL64VI+E/QizPlUj94D+TBF8bodLgP/YqZHRuo+A/x65oRghw4D8j9DgEzjjgP35YSHlM/N8/",
          "dtype": "f8"
         }
        },
        {
         "marker": {
          "color": "rgb(150, 160, 90)",
          "size": 8,
          "symbol": "circle"
         },
         "mode": "markers",
         "name": "Joint 3 limits",
         "type": "scatter3d",
         "x": [
          0.41355002784348455,
          0.40222526665803954
         ],
         "y": [
          -0.08819550407056057,
          -0.08578033552024661
         ],
         "z": [
          0.3827887218691314,
          0.49977409214023527
         ]
        },
        {
         "line": {
          "color": "rgb(150, 160, 90)",
          "dash": "dot",
          "width": 4
         },
         "mode": "lines",
         "name": "Joint 3 axis",
         "type": "scatter3d",
         "x": [
          0.48662526989885607,
          0.4553391697179437
         ],
         "y": [
          -0.10377985269643204,
          -0.2504808408848894
         ],
         "z": [
          0.4492502677167579,
          0.4492502677167579
         ]
        },
        {
         "marker": {
          "color": "yellow",
          "size": 8,
          "symbol": "diamond"
         },
         "mode": "markers",
         "name": "Joint 3 current position",
         "type": "scatter3d",
         "x": [
          0.41763303567713045
         ],
         "y": [
          -0.08906626434082401
         ],
         "z": [
          0.5201274991440383
         ]
        },
        {
         "line": {
          "color": "rgb(200, 190, 60)",
          "width": 3
         },
         "mode": "lines",
         "name": "Joint 4 motion range",
         "type": "scatter3d",
         "x": {
          "bdata": "tmwacyJ+zj+ghc8C9J3OP1WvrMOWps4/8ulQrPqXzj+n8hneOnLOP0CwwnKdNc4/GOY1+pLizT+i6oaptXnNP1yMlDzI+8w/W+xpjLRpzD8G1/zcicTLP3MFcOV6Dcs/lLqAlttFyj+4bkGjHm/JPyvPtdDSisg/LWpOEaCaxz/pK6NxRKDGP+ajItyQncU/YEK4uWWUxD+QzKx1r4bDPwW1OetidsI/WW9xw3llwT+07jvK7lXAP5YfboJ0k74/JDSdbpyFvD8ygq3XJYa6PzxfvYfGmLg/HKGdsBLBtj8Q/XBGdgK1P9yqBaUuYLM/Rf61i0TdsT+o+vt6hnywP7DtXPwGga4/ABgr1gxXrD+EalJAI3+qP86cw5K2/Kg/WHQQZZTSpz/watlZ5gKnP0BGsxouj6Y/wNH5i0J4pj+KrME9Tr6mP1o3zhzPYKc/emkeZJdeqD9O/U/Nz7WpPyZQyPv6Y6s/mMhJHPplrT+O11+wErivP+Rtb736KrE/oy5OQGOdsj/4kkEHkzC0P56xIFqd4bU/5GGEEF6ttz/OWRpnf5C5P6A+FjGAh7s/jnxAWrqOvT8ZBI2taaK/PzJl0mlZ38A/WYEyPtXvwT+1oANTrgDDP4RSN/rpD8Q/",
          "dtype": "f8"
         },
         "y": {
          "bdata": "VKHKNBUDqr9m0fTWOR6qv3jYYL2XJaq/dr3uOSEZqr+wumpx7fipv5vdkjA4xam/m58KfWF+qb+Qrwrj7CSpvwcNGIGAuai/WBiI0+M8qL8Ccw5C/q+nv4ibBHLVE6e/EEOJYItppr9yo/1HXLKlvwjayFSc76S/isejLbUipL+fiAJUI02jv1qremFzcKK/5kpGJz+Oob+cuju1Kqigv0j8fZvCf5+/rkCrmCSunb/fmDwJ3N6bvxde9z5FFZq/S/iK+LFUmL/++5U3Y6CWv/6qwDWD+5S/AnAlhB9pk7/AXfFfI+yRv1jmw0ZSh5C/Bj69qYV6jr/Co1ntsyCMv0q2H+2MBYq/xu1j3vksiL+678xTaJqGv1Jwq9/DUIW/RM+7p3BShL+maWP0RqGDv9SYqMOPPoO/SgVCZgIrg7/g0Ssrw2aDv7THOhxj8YO/FLgqzODJhL+8bqk0qu6Fv0B65qCfXYe/IGw9nxcUib/mnKfy4w6Lv6aEx3pXSo2/NsiVB03Cj78oRQGGFzmRvw/EnxCAqpK/CgdyJbIylL8O2Vp11c6Vv5hJzajse5e/RAML7do2mb8sl9i7afyav2Ds69JOyZy/kmAAUDKanr/yDBxz2jWgv9aGoRA7HaG/",
          "dtype": "f8"
         },
         "z": {
          "bdata": "8LoarlQ16T/urGhWoHrpPwFBKNVcwOk/SasvqggG6j+mlUZ0IkvqP7RgaOEpj+o/LMUOnaDR6j+TU8o6CxLrP/YsdRvyT+s/hVVWS+KK6z8rHplXbsLrP6Y8jBkv9us/IiQvdsQl7D/P56kQ1lDsP8Q8ZO4Td+w/FOSKCzeY7D8Rr+/eAbTsP0I5T8xAyuw/xyMohMra7D8Z2HFQgOXsP+RcpE1O6uw/CFWnjyvp7D/JkmMyGuLsP4562FUn1ew/C3u8BWvC7D+p3dUMCKrsP/baXrQrjOw/zO3sbw1p7D8MkHd27kDsP9+ZPUkZFOw/kydqKeHi6z9w83l9oa3rP009gCe9dOs/vnCGzZ046z+ViFsVs/nqPw2DP9VxuOo/+OnrOlN16j99V4zq0zDqP5vYSBdz6+k/2f8Pl7Gl6T/nTFfzEGDpP10yjngSG+k/pW0CRjbX6D/ikvNf+pToP/+fj8XZVOg/VCeLjEsX6D9OOP0DwtznP/+uGeCppec/ZhtUcGly5z/xHGLhX0PnP6gCfozkGOc/yOQxVUbz5j+7b9gWy9LmPyBs4yKvt+Y/8unY0CSi5j8ZENcgVJLmP6QqTHFaiOY/R+hsSEqE5j9ADs4xK4bmP+SDYbD5jeY/",
          "dtype": "f8"
         }
        },
        {
         "marker": {
          "color": "rgb(200, 190, 60)",
          "size": 8,
          "symbol": "circle"
         },
         "mode": "markers",
         "name": "Joint 4 limits",
         "type": "scatter3d",
         "x": [
          0.23822432155870893,
          0.15673565595229288
         ],
         "y": [
          -0.05080477017810617,
          -0.033426137714526113
         ],
         "z": [
          0.787760105178533,
          0.7048309750499553
         ]
        },
        {
         "line": {
          "color": "rgb(200, 190, 60)",
          "dash": "dot",
          "width": 4
         },
         "mode": "lines",
         "name": "Joint 4 axis",
         "type": "scatter3d",
         "x": [
          0.14166409879022807,
          0.11037799860931571
         ],
         "y": [
          -0.030211910918391913,
          -0.17691289910684932
         ],
         "z": [
          0.8036364248531601,
          0.8036364248531601
         ]
        },
        {
         "marker": {
          "color": "yellow",
          "size": 8,
          "symbol": "diamond"
         },
         "mode": "markers",
         "name": "Joint 4 current position",
         "type": "scatter3d",
         "x": [
          0.15517503405420388
         ],
         "y": [
          -0.033093312601000534
         ],
         "z": [
          0.9026775887832963
         ]
        },
        {
         "line": {
          "color": "red",
          "width": 3
         },
         "mode": "lines",
         "name": "Base X",
         "showlegend": true,
         "type": "scatter3d",
         "x": [
          0,
          0.1
         ],
         "y": [
          0,
          0
         ],
         "z": [
          0,
          0
         ]
        },
        {
         "line": {
          "color": "green",
          "width": 3
         },
         "mode": "lines",
         "name": "Base Y",
         "showlegend": false,
         "type": "scatter3d",
         "x": [
          0,
          0
         ],
         "y": [
          0,
          0.1
         ],
         "z": [
          0,
          0
         ]
        },
        {
         "line": {
          "color": "blue",
          "width": 3
         },
         "mode": "lines",
         "name": "Base Z",
         "showlegend": false,
         "type": "scatter3d",
         "x": [
          0,
          0
         ],
         "y": [
          0,
          0
         ],
         "z": [
          0,
          0.1
         ]
        },
        {
         "line": {
          "color": "red",
          "width": 3
         },
         "mode": "lines",
         "name": "Joint 1 X",
         "showlegend": true,
         "type": "scatter3d",
         "x": [
          0,
          0.1
         ],
         "y": [
          0,
          0
         ],
         "z": [
          0.2,
          0.2
         ]
        },
        {
         "line": {
          "color": "green",
          "width": 3
         },
         "mode": "lines",
         "name": "Joint 1 Y",
         "showlegend": false,
         "type": "scatter3d",
         "x": [
          0,
          0
         ],
         "y": [
          0,
          0.1
         ],
         "z": [
          0.2,
          0.2
         ]
        },
        {
         "line": {
          "color": "blue",
          "width": 3
         },
         "mode": "lines",
         "name": "Joint 1 Z",
         "showlegend": false,
         "type": "scatter3d",
         "x": [
          0,
          0
         ],
         "y": [
          0,
          0
         ],
         "z": [
          0.2,
          0.30000000000000004
         ]
        },
        {
         "line": {
          "color": "red",
          "width": 3
         },
         "mode": "lines",
         "name": "Joint 2 X",
         "showlegend": true,
         "type": "scatter3d",
         "x": [
          0,
          -0.09780065879230498
         ],
         "y": [
          0,
          0.02085740012060824
         ],
         "z": [
          0.4,
          0.4
         ]
        },
        {
         "line": {
          "color": "green",
          "width": 3
         },
         "mode": "lines",
         "name": "Joint 2 Y",
         "showlegend": false,
         "type": "scatter3d",
         "x": [
          0,
          -0.02085740012060824
         ],
         "y": [
          0,
          -0.09780065879230498
         ],
         "z": [
          0.4,
          0.4
         ]
        },
        {
         "line": {
          "color": "blue",
          "width": 3
         },
         "mode": "lines",
         "name": "Joint 2 Z",
         "showlegend": false,
         "type": "scatter3d",
         "x": [
          0,
          0
         ],
         "y": [
          0,
          0
         ],
         "z": [
          0.4,
          0.5
         ]
        },
        {
         "line": {
          "color": "red",
          "width": 3
         },
         "mode": "lines",
         "name": "Joint 3 X",
         "showlegend": true,
         "type": "scatter3d",
         "x": [
          0.48662526989885607,
          0.47699185264206345
         ],
         "y": [
          -0.10377985269643204,
          -0.10172538761680106
         ],
         "z": [
          0.4492502677167579,
          0.5487639675032351
         ]
        },
        {
         "line": {
          "color": "green",
          "width": 3
         },
         "mode": "lines",
         "name": "Joint 3 Y",
         "showlegend": false,
         "type": "scatter3d",
         "x": [
          0.48662526989885607,
          0.46576786977824786
         ],
         "y": [
          -0.10377985269643204,
          -0.20158051148873696
         ],
         "z": [
          0.4492502677167579,
          0.4492502677167579
         ]
        },
        {
         "line": {
          "color": "blue",
          "width": 3
         },
         "mode": "lines",
         "name": "Joint 3 Z",
         "showlegend": false,
         "type": "scatter3d",
         "x": [
          0.48662526989885607,
          0.5839503238786273
         ],
         "y": [
          -0.10377985269643204,
          -0.12453582323571845
         ],
         "z": [
          0.4492502677167579,
          0.4591003212601095
         ]
        },
        {
         "line": {
          "color": "red",
          "width": 3
         },
         "mode": "lines",
         "name": "Joint 4 X",
         "showlegend": true,
         "type": "scatter3d",
         "x": [
          0.14166409879022807,
          0.07234569952060123
         ],
         "y": [
          -0.030211910918391913,
          -0.015428763165194544
         ],
         "z": [
          0.8036364248531601,
          0.733092693273354
         ]
        },
        {
         "line": {
          "color": "green",
          "width": 3
         },
         "mode": "lines",
         "name": "Joint 4 Y",
         "showlegend": false,
         "type": "scatter3d",
         "x": [
          0.14166409879022807,
          0.12080669866961982
         ],
         "y": [
          -0.030211910918391913,
          -0.12801256971069686
         ],
         "z": [
          0.8036364248531601,
          0.8036364248531601
         ]
        },
        {
         "line": {
          "color": "blue",
          "width": 3
         },
         "mode": "lines",
         "name": "Joint 4 Z",
         "showlegend": false,
         "type": "scatter3d",
         "x": [
          0.14166409879022807,
          0.07267186456850246
         ],
         "y": [
          -0.030211910918391913,
          -0.015498322562783886
         ],
         "z": [
          0.8036364248531601,
          0.8745136562804405
         ]
        },
        {
         "line": {
          "color": "red",
          "width": 5
         },
         "mode": "lines",
         "name": "End-effector X",
         "showlegend": true,
         "type": "scatter3d",
         "x": [
          0.1686859693181797,
          -0.025039852280300062
         ],
         "y": [
          -0.035974714283609155,
          0.005340109406422912
         ],
         "z": [
          1.0017187527134326,
          1.02934829106382
         ]
        },
        {
         "line": {
          "color": "green",
          "width": 5
         },
         "mode": "lines",
         "name": "End-effector Y",
         "showlegend": false,
         "type": "scatter3d",
         "x": [
          0.1686859693181797,
          0.1269711690769632
         ],
         "y": [
          -0.035974714283609155,
          -0.23157603186821898
         ],
         "z": [
          1.0017187527134326,
          1.0017187527134326
         ]
        },
        {
         "line": {
          "color": "blue",
          "width": 5
         },
         "mode": "lines",
         "name": "End-effector Z",
         "showlegend": false,
         "type": "scatter3d",
         "x": [
          0.1686859693181797,
          0.19570783984613133
         ],
         "y": [
          -0.035974714283609155,
          -0.0417375176488264
         ],
         "z": [
          1.0017187527134326,
          1.199801080573705
         ]
        }
       ],
       "layout": {
        "height": 600,
        "scene": {
         "aspectmode": "manual",
         "aspectratio": {
          "x": 1,
          "y": 1,
          "z": 1
         },
         "camera": {
          "eye": {
           "x": 1.5,
           "y": 1.5,
           "z": 1.5
          },
          "projection": {
           "type": "orthographic"
          }
         },
         "xaxis": {
          "range": [
           -0.3575467414072883,
           0.8441720113061444
          ],
          "title": {
           "text": "X"
          }
         },
         "yaxis": {
          "range": [
           -0.6527493027049324,
           0.5489694500085004
          ],
          "title": {
           "text": "Y"
          }
         },
         "zaxis": {
          "range": [
           0,
           1.2017187527134328
          ],
          "title": {
           "text": "Z"
          }
         }
        },
        "template": {
         "data": {
          "bar": [
           {
            "error_x": {
             "color": "#2a3f5f"
            },
            "error_y": {
             "color": "#2a3f5f"
            },
            "marker": {
             "line": {
              "color": "#E5ECF6",
              "width": 0.5
             },
             "pattern": {
              "fillmode": "overlay",
              "size": 10,
              "solidity": 0.2
             }
            },
            "type": "bar"
           }
          ],
          "barpolar": [
           {
            "marker": {
             "line": {
              "color": "#E5ECF6",
              "width": 0.5
             },
             "pattern": {
              "fillmode": "overlay",
              "size": 10,
              "solidity": 0.2
             }
            },
            "type": "barpolar"
           }
          ],
          "carpet": [
           {
            "aaxis": {
             "endlinecolor": "#2a3f5f",
             "gridcolor": "white",
             "linecolor": "white",
             "minorgridcolor": "white",
             "startlinecolor": "#2a3f5f"
            },
            "baxis": {
             "endlinecolor": "#2a3f5f",
             "gridcolor": "white",
             "linecolor": "white",
             "minorgridcolor": "white",
             "startlinecolor": "#2a3f5f"
            },
            "type": "carpet"
           }
          ],
          "choropleth": [
           {
            "colorbar": {
             "outlinewidth": 0,
             "ticks": ""
            },
            "type": "choropleth"
           }
          ],
          "contour": [
           {
            "colorbar": {
             "outlinewidth": 0,
             "ticks": ""
            },
            "colorscale": [
             [
              0,
              "#0d0887"
             ],
             [
              0.1111111111111111,
              "#46039f"
             ],
             [
              0.2222222222222222,
              "#7201a8"
             ],
             [
              0.3333333333333333,
              "#9c179e"
             ],
             [
              0.4444444444444444,
              "#bd3786"
             ],
             [
              0.5555555555555556,
              "#d8576b"
             ],
             [
              0.6666666666666666,
              "#ed7953"
             ],
             [
              0.7777777777777778,
              "#fb9f3a"
             ],
             [
              0.8888888888888888,
              "#fdca26"
             ],
             [
              1,
              "#f0f921"
             ]
            ],
            "type": "contour"
           }
          ],
          "contourcarpet": [
           {
            "colorbar": {
             "outlinewidth": 0,
             "ticks": ""
            },
            "type": "contourcarpet"
           }
          ],
          "heatmap": [
           {
            "colorbar": {
             "outlinewidth": 0,
             "ticks": ""
            },
            "colorscale": [
             [
              0,
              "#0d0887"
             ],
             [
              0.1111111111111111,
              "#46039f"
             ],
             [
              0.2222222222222222,
              "#7201a8"
             ],
             [
              0.3333333333333333,
              "#9c179e"
             ],
             [
              0.4444444444444444,
              "#bd3786"
             ],
             [
              0.5555555555555556,
              "#d8576b"
             ],
             [
              0.6666666666666666,
              "#ed7953"
             ],
             [
              0.7777777777777778,
              "#fb9f3a"
             ],
             [
              0.8888888888888888,
              "#fdca26"
             ],
             [
              1,
              "#f0f921"
             ]
            ],
            "type": "heatmap"
           }
          ],
          "histogram": [
           {
            "marker": {
             "pattern": {
              "fillmode": "overlay",
              "size": 10,
              "solidity": 0.2
             }
            },
            "type": "histogram"
           }
          ],
          "histogram2d": [
           {
            "colorbar": {
             "outlinewidth": 0,
             "ticks": ""
            },
            "colorscale": [
             [
              0,
              "#0d0887"
             ],
             [
              0.1111111111111111,
              "#46039f"
             ],
             [
              0.2222222222222222,
              "#7201a8"
             ],
             [
              0.3333333333333333,
              "#9c179e"
             ],
             [
              0.4444444444444444,
              "#bd3786"
             ],
             [
              0.5555555555555556,
              "#d8576b"
             ],
             [
              0.6666666666666666,
              "#ed7953"
             ],
             [
              0.7777777777777778,
              "#fb9f3a"
             ],
             [
              0.8888888888888888,
              "#fdca26"
             ],
             [
              1,
              "#f0f921"
             ]
            ],
            "type": "histogram2d"
           }
          ],
          "histogram2dcontour": [
           {
            "colorbar": {
             "outlinewidth": 0,
             "ticks": ""
            },
            "colorscale": [
             [
              0,
              "#0d0887"
             ],
             [
              0.1111111111111111,
              "#46039f"
             ],
             [
              0.2222222222222222,
              "#7201a8"
             ],
             [
              0.3333333333333333,
              "#9c179e"
             ],
             [
              0.4444444444444444,
              "#bd3786"
             ],
             [
              0.5555555555555556,
              "#d8576b"
             ],
             [
              0.6666666666666666,
              "#ed7953"
             ],
             [
              0.7777777777777778,
              "#fb9f3a"
             ],
             [
              0.8888888888888888,
              "#fdca26"
             ],
             [
              1,
              "#f0f921"
             ]
            ],
            "type": "histogram2dcontour"
           }
          ],
          "mesh3d": [
           {
            "colorbar": {
             "outlinewidth": 0,
             "ticks": ""
            },
            "type": "mesh3d"
           }
          ],
          "parcoords": [
           {
            "line": {
             "colorbar": {
              "outlinewidth": 0,
              "ticks": ""
             }
            },
            "type": "parcoords"
           }
          ],
          "pie": [
           {
            "automargin": true,
            "type": "pie"
           }
          ],
          "scatter": [
           {
            "fillpattern": {
             "fillmode": "overlay",
             "size": 10,
             "solidity": 0.2
            },
            "type": "scatter"
           }
          ],
          "scatter3d": [
           {
            "line": {
             "colorbar": {
              "outlinewidth": 0,
              "ticks": ""
             }
            },
            "marker": {
             "colorbar": {
              "outlinewidth": 0,
              "ticks": ""
             }
            },
            "type": "scatter3d"
           }
          ],
          "scattercarpet": [
           {
            "marker": {
             "colorbar": {
              "outlinewidth": 0,
              "ticks": ""
             }
            },
            "type": "scattercarpet"
           }
          ],
          "scattergeo": [
           {
            "marker": {
             "colorbar": {
              "outlinewidth": 0,
              "ticks": ""
             }
            },
            "type": "scattergeo"
           }
          ],
          "scattergl": [
           {
            "marker": {
             "colorbar": {
              "outlinewidth": 0,
              "ticks": ""
             }
            },
            "type": "scattergl"
           }
          ],
          "scattermap": [
           {
            "marker": {
             "colorbar": {
              "outlinewidth": 0,
              "ticks": ""
             }
            },
            "type": "scattermap"
           }
          ],
          "scattermapbox": [
           {
            "marker": {
             "colorbar": {
              "outlinewidth": 0,
              "ticks": ""
             }
            },
            "type": "scattermapbox"
           }
          ],
          "scatterpolar": [
           {
            "marker": {
             "colorbar": {
              "outlinewidth": 0,
              "ticks": ""
             }
            },
            "type": "scatterpolar"
           }
          ],
          "scatterpolargl": [
           {
            "marker": {
             "colorbar": {
              "outlinewidth": 0,
              "ticks": ""
             }
            },
            "type": "scatterpolargl"
           }
          ],
          "scatterternary": [
           {
            "marker": {
             "colorbar": {
              "outlinewidth": 0,
              "ticks": ""
             }
            },
            "type": "scatterternary"
           }
          ],
          "surface": [
           {
            "colorbar": {
             "outlinewidth": 0,
             "ticks": ""
            },
            "colorscale": [
             [
              0,
              "#0d0887"
             ],
             [
              0.1111111111111111,
              "#46039f"
             ],
             [
              0.2222222222222222,
              "#7201a8"
             ],
             [
              0.3333333333333333,
              "#9c179e"
             ],
             [
              0.4444444444444444,
              "#bd3786"
             ],
             [
              0.5555555555555556,
              "#d8576b"
             ],
             [
              0.6666666666666666,
              "#ed7953"
             ],
             [
              0.7777777777777778,
              "#fb9f3a"
             ],
             [
              0.8888888888888888,
              "#fdca26"
             ],
             [
              1,
              "#f0f921"
             ]
            ],
            "type": "surface"
           }
          ],
          "table": [
           {
            "cells": {
             "fill": {
              "color": "#EBF0F8"
             },
             "line": {
              "color": "white"
             }
            },
            "header": {
             "fill": {
              "color": "#C8D4E3"
             },
             "line": {
              "color": "white"
             }
            },
            "type": "table"
           }
          ]
         },
         "layout": {
          "annotationdefaults": {
           "arrowcolor": "#2a3f5f",
           "arrowhead": 0,
           "arrowwidth": 1
          },
          "autotypenumbers": "strict",
          "coloraxis": {
           "colorbar": {
            "outlinewidth": 0,
            "ticks": ""
           }
          },
          "colorscale": {
           "diverging": [
            [
             0,
             "#8e0152"
            ],
            [
             0.1,
             "#c51b7d"
            ],
            [
             0.2,
             "#de77ae"
            ],
            [
             0.3,
             "#f1b6da"
            ],
            [
             0.4,
             "#fde0ef"
            ],
            [
             0.5,
             "#f7f7f7"
            ],
            [
             0.6,
             "#e6f5d0"
            ],
            [
             0.7,
             "#b8e186"
            ],
            [
             0.8,
             "#7fbc41"
            ],
            [
             0.9,
             "#4d9221"
            ],
            [
             1,
             "#276419"
            ]
           ],
           "sequential": [
            [
             0,
             "#0d0887"
            ],
            [
             0.1111111111111111,
             "#46039f"
            ],
            [
             0.2222222222222222,
             "#7201a8"
            ],
            [
             0.3333333333333333,
             "#9c179e"
            ],
            [
             0.4444444444444444,
             "#bd3786"
            ],
            [
             0.5555555555555556,
             "#d8576b"
            ],
            [
             0.6666666666666666,
             "#ed7953"
            ],
            [
             0.7777777777777778,
             "#fb9f3a"
            ],
            [
             0.8888888888888888,
             "#fdca26"
            ],
            [
             1,
             "#f0f921"
            ]
           ],
           "sequentialminus": [
            [
             0,
             "#0d0887"
            ],
            [
             0.1111111111111111,
             "#46039f"
            ],
            [
             0.2222222222222222,
             "#7201a8"
            ],
            [
             0.3333333333333333,
             "#9c179e"
            ],
            [
             0.4444444444444444,
             "#bd3786"
            ],
            [
             0.5555555555555556,
             "#d8576b"
            ],
            [
             0.6666666666666666,
             "#ed7953"
            ],
            [
             0.7777777777777778,
             "#fb9f3a"
            ],
            [
             0.8888888888888888,
             "#fdca26"
            ],
            [
             1,
             "#f0f921"
            ]
           ]
          },
          "colorway": [
           "#636efa",
           "#EF553B",
           "#00cc96",
           "#ab63fa",
           "#FFA15A",
           "#19d3f3",
           "#FF6692",
           "#B6E880",
           "#FF97FF",
           "#FECB52"
          ],
          "font": {
           "color": "#2a3f5f"
          },
          "geo": {
           "bgcolor": "white",
           "lakecolor": "white",
           "landcolor": "#E5ECF6",
           "showlakes": true,
           "showland": true,
           "subunitcolor": "white"
          },
          "hoverlabel": {
           "align": "left"
          },
          "hovermode": "closest",
          "mapbox": {
           "style": "light"
          },
          "paper_bgcolor": "white",
          "plot_bgcolor": "#E5ECF6",
          "polar": {
           "angularaxis": {
            "gridcolor": "white",
            "linecolor": "white",
            "ticks": ""
           },
           "bgcolor": "#E5ECF6",
           "radialaxis": {
            "gridcolor": "white",
            "linecolor": "white",
            "ticks": ""
           }
          },
          "scene": {
           "xaxis": {
            "backgroundcolor": "#E5ECF6",
            "gridcolor": "white",
            "gridwidth": 2,
            "linecolor": "white",
            "showbackground": true,
            "ticks": "",
            "zerolinecolor": "white"
           },
           "yaxis": {
            "backgroundcolor": "#E5ECF6",
            "gridcolor": "white",
            "gridwidth": 2,
            "linecolor": "white",
            "showbackground": true,
            "ticks": "",
            "zerolinecolor": "white"
           },
           "zaxis": {
            "backgroundcolor": "#E5ECF6",
            "gridcolor": "white",
            "gridwidth": 2,
            "linecolor": "white",
            "showbackground": true,
            "ticks": "",
            "zerolinecolor": "white"
           }
          },
          "shapedefaults": {
           "line": {
            "color": "#2a3f5f"
           }
          },
          "ternary": {
           "aaxis": {
            "gridcolor": "white",
            "linecolor": "white",
            "ticks": ""
           },
           "baxis": {
            "gridcolor": "white",
            "linecolor": "white",
            "ticks": ""
           },
           "bgcolor": "#E5ECF6",
           "caxis": {
            "gridcolor": "white",
            "linecolor": "white",
            "ticks": ""
           }
          },
          "title": {
           "x": 0.05
          },
          "xaxis": {
           "automargin": true,
           "gridcolor": "white",
           "linecolor": "white",
           "ticks": "",
           "title": {
            "standoff": 15
           },
           "zerolinecolor": "white",
           "zerolinewidth": 2
          },
          "yaxis": {
           "automargin": true,
           "gridcolor": "white",
           "linecolor": "white",
           "ticks": "",
           "title": {
            "standoff": 15
           },
           "zerolinecolor": "white",
           "zerolinewidth": 2
          }
         }
        },
        "title": {
         "text": "3D Visualization of Manipulator Configuration"
        },
        "width": 1000
       }
      }
     },
     "metadata": {},
     "output_type": "display_data"
    }
   ],
   "source": [
    "# Print joint angles, joint axis, and link axis\n",
    "print(\"Joint angles (radians): \", test_angles)\n",
    "print(\"Joint rotation axes (world frame): \", [robot_arm.rotation_axes[i] for i in range(num_joints)])\n",
    "print(\"Link axes (world frame): \", [robot_arm.link_axes[i] for i in range(num_joints)])\n",
    "print(\"End Effector Position (point x,y,z): \", pos)\n",
    "print(\"End Effector Orientation (quaternion x,y,z,w): \", quat)\n",
    "\n",
    "# Call the visualization function with your robot_arm and test_angles\n",
    "fig = visualize_robot_arm(robot_arm, test_angles)\n",
    "fig.show(config={\n",
    "    'scrollZoom': True,  # Enable scroll zoom\n",
    "    'modeBarButtonsToAdd': ['resetCameraDefault3d'],  # Add reset button\n",
    "    'doubleClick': 'reset',  # Reset on double click\n",
    "    'displayModeBar': True,  # Always display the mode bar\n",
    "})"
   ]
  }
 ],
 "metadata": {
  "kernelspec": {
   "display_name": "Inverse-Kinematics-Prediction",
   "language": "python",
   "name": "python3"
  },
  "language_info": {
   "codemirror_mode": {
    "name": "ipython",
    "version": 3
   },
   "file_extension": ".py",
   "mimetype": "text/x-python",
   "name": "python",
   "nbconvert_exporter": "python",
   "pygments_lexer": "ipython3",
   "version": "3.13.2"
  }
 },
 "nbformat": 4,
 "nbformat_minor": 2
}
