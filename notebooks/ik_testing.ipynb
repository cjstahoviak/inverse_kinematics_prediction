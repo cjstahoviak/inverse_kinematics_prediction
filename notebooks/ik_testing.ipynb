{
 "cells": [
  {
   "cell_type": "code",
   "execution_count": 56,
   "id": "2d7a3d43",
   "metadata": {},
   "outputs": [
    {
     "name": "stdout",
     "output_type": "stream",
     "text": [
      "Current working directory: c:\\Users\\cjsta\\git\\inverse_kinematics_prediction\\notebooks\n",
      "Project root added to sys.path: c:\\Users\\cjsta\\git\\inverse_kinematics_prediction\n"
     ]
    }
   ],
   "source": [
    "import sys\n",
    "import os\n",
    "\n",
    "# Add the parent directory (project root) relative to the current working directory.\n",
    "project_root = os.path.abspath(os.path.join(os.getcwd(), \"..\"))\n",
    "if project_root not in sys.path:\n",
    "    sys.path.insert(0, project_root)\n",
    "\n",
    "print(\"Current working directory:\", os.getcwd())\n",
    "print(\"Project root added to sys.path:\", project_root)"
   ]
  },
  {
   "cell_type": "code",
   "execution_count": 57,
   "id": "8c9d1742",
   "metadata": {},
   "outputs": [
    {
     "name": "stdout",
     "output_type": "stream",
     "text": [
      "\n",
      "Target Position: [ 0.16868597 -0.03597471  1.00171875]\n",
      "\n",
      "Damped Least Squares Solver\n",
      "\tSuccess: True\n",
      "\tComputation Time: 0.0013 seconds\n",
      "\tJoint Angles: [-0.21148502 -0.77893074  1.56715423  1.34526164]\n",
      "\tEnd Effector Position: (array([ 0.16861393, -0.03620064,  1.00169316]), (np.float64(0.09241905918002832), np.float64(0.8707410089454436), np.float64(-0.05097630097678012), np.float64(0.4802814066562166)))\n",
      "\n",
      "Jacobian Transpose Solver\n",
      "\tSuccess: False\n",
      "\tComputation Time: 0.0194 seconds\n",
      "\tJoint Angles: [-2.95373849  0.32482198  2.12815919 -2.51327412]\n",
      "\tEnd Effector Position: (array([-0.45706653, -0.08688631,  0.68742581]), (np.float64(0.030009048431719792), np.float64(0.0028269807718091953), np.float64(0.9951397257943848), np.float64(-0.09374642040000791)))\n",
      "\n",
      "Pseudo Inverse Solver\n",
      "\tSuccess: True\n",
      "\tComputation Time: 0.0140 seconds\n",
      "\tJoint Angles: [-0.21011664 -0.3277448   1.86438257 -2.51327412]\n",
      "\tEnd Effector Position: (array([ 0.16922465, -0.03608959,  1.00242389]), (np.float64(-0.049196581261098195), np.float64(-0.4665546608379742), np.float64(-0.09260885525410066), np.float64(0.8782539750955346)))\n"
     ]
    }
   ],
   "source": [
    "from utils.robot_arm import RobotArm\n",
    "from utils.ik_solver import DampedLeastSquaresSolver, JacobianTransposeSolver, PseudoInverseSolver\n",
    "import numpy as np\n",
    "\n",
    "# Create a 4-DOF robot arm with 5 links, each of length 1.0 unit.\n",
    "num_joints = 4\n",
    "joint_limits = [(-1*np.pi, 1*np.pi), (-0.8*np.pi, 0.8*np.pi), (-0.8*np.pi, 0.8*np.pi), (-0.8*np.pi, 0.8*np.pi)]\n",
    "rotation_axes = ['z', 'y', 'y', 'y']\n",
    "link_lengths = [0.2, 0.2, 0.5, 0.5, 0.2]\n",
    "link_axes = ['z', 'z', 'z', 'z', 'z']\n",
    "\n",
    "# Instantiate the RobotArm object\n",
    "robot_arm = RobotArm(num_joints=num_joints, \n",
    "                     joint_limits=joint_limits, \n",
    "                     link_lengths=link_lengths, \n",
    "                     rotation_axes=rotation_axes,\n",
    "                     link_axes=link_axes)\n",
    "\n",
    "# Create a solver\n",
    "dls_solver = DampedLeastSquaresSolver(robot_arm, damping_factor=0.1)\n",
    "jt_solver = JacobianTransposeSolver(robot_arm, step_size=0.05)\n",
    "p_solver = PseudoInverseSolver(robot_arm)\n",
    "\n",
    "# Solve IK\n",
    "target_position = np.array([0.16868597, -0.03597471,  1.00171875])\n",
    "dls_joint_angles, dls_computation_time, dls_success = dls_solver.solve(target_position)\n",
    "jt_joint_angles, jt_computation_time, jt_success = jt_solver.solve(target_position)\n",
    "p_joint_angles, p_computation_time, p_success = p_solver.solve(target_position)\n",
    "\n",
    "print(f\"\\nTarget Position: {target_position}\")\n",
    "\n",
    "print(f\"\\nDamped Least Squares Solver\")\n",
    "print(f\"\\tSuccess: {dls_success}\")\n",
    "print(f\"\\tComputation Time: {dls_computation_time:.4f} seconds\")\n",
    "print(f\"\\tJoint Angles: {dls_joint_angles}\")\n",
    "print(f\"\\tEnd Effector Position: {robot_arm.forward_kinematics(dls_joint_angles)}\")\n",
    "\n",
    "print(f\"\\nJacobian Transpose Solver\")\n",
    "print(f\"\\tSuccess: {jt_success}\")\n",
    "print(f\"\\tComputation Time: {jt_computation_time:.4f} seconds\")\n",
    "print(f\"\\tJoint Angles: {jt_joint_angles}\")\n",
    "print(f\"\\tEnd Effector Position: {robot_arm.forward_kinematics(jt_joint_angles)}\")\n",
    "\n",
    "print(f\"\\nPseudo Inverse Solver\")\n",
    "print(f\"\\tSuccess: {p_success}\")\n",
    "print(f\"\\tComputation Time: {p_computation_time:.4f} seconds\")\n",
    "print(f\"\\tJoint Angles: {p_joint_angles}\")\n",
    "print(f\"\\tEnd Effector Position: {robot_arm.forward_kinematics(p_joint_angles)}\")"
   ]
  }
 ],
 "metadata": {
  "kernelspec": {
   "display_name": "Inverse-Kinematics-Prediction",
   "language": "python",
   "name": "python3"
  },
  "language_info": {
   "codemirror_mode": {
    "name": "ipython",
    "version": 3
   },
   "file_extension": ".py",
   "mimetype": "text/x-python",
   "name": "python",
   "nbconvert_exporter": "python",
   "pygments_lexer": "ipython3",
   "version": "3.13.2"
  }
 },
 "nbformat": 4,
 "nbformat_minor": 5
}
